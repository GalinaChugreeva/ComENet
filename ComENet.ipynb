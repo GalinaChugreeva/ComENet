{
  "cells": [
    {
      "cell_type": "markdown",
      "metadata": {
        "id": "view-in-github",
        "colab_type": "text"
      },
      "source": [
        "<a href=\"https://colab.research.google.com/github/GalinaChugreeva/ComENet/blob/main/ComENet.ipynb\" target=\"_parent\"><img src=\"https://colab.research.google.com/assets/colab-badge.svg\" alt=\"Open In Colab\"/></a>"
      ]
    },
    {
      "cell_type": "code",
      "execution_count": 2,
      "metadata": {
        "id": "A2OeAHzf83gc"
      },
      "outputs": [],
      "source": [
        "# print(torch.__version__)"
      ]
    },
    {
      "cell_type": "code",
      "execution_count": 3,
      "metadata": {
        "colab": {
          "base_uri": "https://localhost:8080/"
        },
        "id": "NuvyGYpt-vIu",
        "outputId": "2cf28b73-38a0-46c8-adc5-202badf66967"
      },
      "outputs": [
        {
          "output_type": "stream",
          "name": "stdout",
          "text": [
            "Requirement already satisfied: dive-into-graphs in /usr/local/lib/python3.10/dist-packages (1.1.0)\n",
            "Requirement already satisfied: scipy in /usr/local/lib/python3.10/dist-packages (from dive-into-graphs) (1.11.4)\n",
            "Requirement already satisfied: cilog in /usr/local/lib/python3.10/dist-packages (from dive-into-graphs) (1.3.0)\n",
            "Requirement already satisfied: typed-argument-parser==1.7.2 in /usr/local/lib/python3.10/dist-packages (from dive-into-graphs) (1.7.2)\n",
            "Requirement already satisfied: captum==0.2.0 in /usr/local/lib/python3.10/dist-packages (from dive-into-graphs) (0.2.0)\n",
            "Requirement already satisfied: munch in /usr/local/lib/python3.10/dist-packages (from dive-into-graphs) (4.0.0)\n",
            "Requirement already satisfied: gdown in /usr/local/lib/python3.10/dist-packages (from dive-into-graphs) (4.7.3)\n",
            "Requirement already satisfied: shap in /usr/local/lib/python3.10/dist-packages (from dive-into-graphs) (0.45.0)\n",
            "Requirement already satisfied: IPython in /usr/local/lib/python3.10/dist-packages (from dive-into-graphs) (7.34.0)\n",
            "Requirement already satisfied: tqdm in /usr/local/lib/python3.10/dist-packages (from dive-into-graphs) (4.66.2)\n",
            "Requirement already satisfied: rdkit-pypi in /usr/local/lib/python3.10/dist-packages (from dive-into-graphs) (2022.9.5)\n",
            "Requirement already satisfied: pandas in /usr/local/lib/python3.10/dist-packages (from dive-into-graphs) (1.5.3)\n",
            "Requirement already satisfied: sympy in /usr/local/lib/python3.10/dist-packages (from dive-into-graphs) (1.12)\n",
            "Requirement already satisfied: pyscf>=1.7.6 in /usr/local/lib/python3.10/dist-packages (from dive-into-graphs) (2.5.0)\n",
            "Requirement already satisfied: hydra-core in /usr/local/lib/python3.10/dist-packages (from dive-into-graphs) (1.3.2)\n",
            "Requirement already satisfied: matplotlib in /usr/local/lib/python3.10/dist-packages (from captum==0.2.0->dive-into-graphs) (3.7.1)\n",
            "Requirement already satisfied: numpy in /usr/local/lib/python3.10/dist-packages (from captum==0.2.0->dive-into-graphs) (1.25.2)\n",
            "Requirement already satisfied: torch>=1.2 in /usr/local/lib/python3.10/dist-packages (from captum==0.2.0->dive-into-graphs) (2.2.1+cu121)\n",
            "Requirement already satisfied: typing-extensions>=3.7.4 in /usr/local/lib/python3.10/dist-packages (from typed-argument-parser==1.7.2->dive-into-graphs) (4.10.0)\n",
            "Requirement already satisfied: typing-inspect>=0.7.1 in /usr/local/lib/python3.10/dist-packages (from typed-argument-parser==1.7.2->dive-into-graphs) (0.9.0)\n",
            "Requirement already satisfied: h5py>=2.7 in /usr/local/lib/python3.10/dist-packages (from pyscf>=1.7.6->dive-into-graphs) (3.9.0)\n",
            "Requirement already satisfied: setuptools in /usr/local/lib/python3.10/dist-packages (from pyscf>=1.7.6->dive-into-graphs) (67.7.2)\n",
            "Requirement already satisfied: tabulate in /usr/local/lib/python3.10/dist-packages (from cilog->dive-into-graphs) (0.9.0)\n",
            "Requirement already satisfied: openpyxl in /usr/local/lib/python3.10/dist-packages (from cilog->dive-into-graphs) (3.1.2)\n",
            "Requirement already satisfied: filelock in /usr/local/lib/python3.10/dist-packages (from gdown->dive-into-graphs) (3.13.3)\n",
            "Requirement already satisfied: requests[socks] in /usr/local/lib/python3.10/dist-packages (from gdown->dive-into-graphs) (2.31.0)\n",
            "Requirement already satisfied: six in /usr/local/lib/python3.10/dist-packages (from gdown->dive-into-graphs) (1.16.0)\n",
            "Requirement already satisfied: beautifulsoup4 in /usr/local/lib/python3.10/dist-packages (from gdown->dive-into-graphs) (4.12.3)\n",
            "Requirement already satisfied: omegaconf<2.4,>=2.2 in /usr/local/lib/python3.10/dist-packages (from hydra-core->dive-into-graphs) (2.3.0)\n",
            "Requirement already satisfied: antlr4-python3-runtime==4.9.* in /usr/local/lib/python3.10/dist-packages (from hydra-core->dive-into-graphs) (4.9.3)\n",
            "Requirement already satisfied: packaging in /usr/local/lib/python3.10/dist-packages (from hydra-core->dive-into-graphs) (24.0)\n",
            "Requirement already satisfied: jedi>=0.16 in /usr/local/lib/python3.10/dist-packages (from IPython->dive-into-graphs) (0.19.1)\n",
            "Requirement already satisfied: decorator in /usr/local/lib/python3.10/dist-packages (from IPython->dive-into-graphs) (4.4.2)\n",
            "Requirement already satisfied: pickleshare in /usr/local/lib/python3.10/dist-packages (from IPython->dive-into-graphs) (0.7.5)\n",
            "Requirement already satisfied: traitlets>=4.2 in /usr/local/lib/python3.10/dist-packages (from IPython->dive-into-graphs) (5.7.1)\n",
            "Requirement already satisfied: prompt-toolkit!=3.0.0,!=3.0.1,<3.1.0,>=2.0.0 in /usr/local/lib/python3.10/dist-packages (from IPython->dive-into-graphs) (3.0.43)\n",
            "Requirement already satisfied: pygments in /usr/local/lib/python3.10/dist-packages (from IPython->dive-into-graphs) (2.16.1)\n",
            "Requirement already satisfied: backcall in /usr/local/lib/python3.10/dist-packages (from IPython->dive-into-graphs) (0.2.0)\n",
            "Requirement already satisfied: matplotlib-inline in /usr/local/lib/python3.10/dist-packages (from IPython->dive-into-graphs) (0.1.6)\n",
            "Requirement already satisfied: pexpect>4.3 in /usr/local/lib/python3.10/dist-packages (from IPython->dive-into-graphs) (4.9.0)\n",
            "Requirement already satisfied: python-dateutil>=2.8.1 in /usr/local/lib/python3.10/dist-packages (from pandas->dive-into-graphs) (2.8.2)\n",
            "Requirement already satisfied: pytz>=2020.1 in /usr/local/lib/python3.10/dist-packages (from pandas->dive-into-graphs) (2023.4)\n",
            "Requirement already satisfied: Pillow in /usr/local/lib/python3.10/dist-packages (from rdkit-pypi->dive-into-graphs) (9.4.0)\n",
            "Requirement already satisfied: scikit-learn in /usr/local/lib/python3.10/dist-packages (from shap->dive-into-graphs) (1.2.2)\n",
            "Requirement already satisfied: slicer==0.0.7 in /usr/local/lib/python3.10/dist-packages (from shap->dive-into-graphs) (0.0.7)\n",
            "Requirement already satisfied: numba in /usr/local/lib/python3.10/dist-packages (from shap->dive-into-graphs) (0.58.1)\n",
            "Requirement already satisfied: cloudpickle in /usr/local/lib/python3.10/dist-packages (from shap->dive-into-graphs) (2.2.1)\n",
            "Requirement already satisfied: mpmath>=0.19 in /usr/local/lib/python3.10/dist-packages (from sympy->dive-into-graphs) (1.3.0)\n",
            "Requirement already satisfied: parso<0.9.0,>=0.8.3 in /usr/local/lib/python3.10/dist-packages (from jedi>=0.16->IPython->dive-into-graphs) (0.8.3)\n",
            "Requirement already satisfied: PyYAML>=5.1.0 in /usr/local/lib/python3.10/dist-packages (from omegaconf<2.4,>=2.2->hydra-core->dive-into-graphs) (6.0.1)\n",
            "Requirement already satisfied: ptyprocess>=0.5 in /usr/local/lib/python3.10/dist-packages (from pexpect>4.3->IPython->dive-into-graphs) (0.7.0)\n",
            "Requirement already satisfied: wcwidth in /usr/local/lib/python3.10/dist-packages (from prompt-toolkit!=3.0.0,!=3.0.1,<3.1.0,>=2.0.0->IPython->dive-into-graphs) (0.2.13)\n",
            "Requirement already satisfied: networkx in /usr/local/lib/python3.10/dist-packages (from torch>=1.2->captum==0.2.0->dive-into-graphs) (3.2.1)\n",
            "Requirement already satisfied: jinja2 in /usr/local/lib/python3.10/dist-packages (from torch>=1.2->captum==0.2.0->dive-into-graphs) (3.1.3)\n",
            "Requirement already satisfied: fsspec in /usr/local/lib/python3.10/dist-packages (from torch>=1.2->captum==0.2.0->dive-into-graphs) (2023.6.0)\n",
            "Requirement already satisfied: nvidia-cuda-nvrtc-cu12==12.1.105 in /usr/local/lib/python3.10/dist-packages (from torch>=1.2->captum==0.2.0->dive-into-graphs) (12.1.105)\n",
            "Requirement already satisfied: nvidia-cuda-runtime-cu12==12.1.105 in /usr/local/lib/python3.10/dist-packages (from torch>=1.2->captum==0.2.0->dive-into-graphs) (12.1.105)\n",
            "Requirement already satisfied: nvidia-cuda-cupti-cu12==12.1.105 in /usr/local/lib/python3.10/dist-packages (from torch>=1.2->captum==0.2.0->dive-into-graphs) (12.1.105)\n",
            "Requirement already satisfied: nvidia-cudnn-cu12==8.9.2.26 in /usr/local/lib/python3.10/dist-packages (from torch>=1.2->captum==0.2.0->dive-into-graphs) (8.9.2.26)\n",
            "Requirement already satisfied: nvidia-cublas-cu12==12.1.3.1 in /usr/local/lib/python3.10/dist-packages (from torch>=1.2->captum==0.2.0->dive-into-graphs) (12.1.3.1)\n",
            "Requirement already satisfied: nvidia-cufft-cu12==11.0.2.54 in /usr/local/lib/python3.10/dist-packages (from torch>=1.2->captum==0.2.0->dive-into-graphs) (11.0.2.54)\n",
            "Requirement already satisfied: nvidia-curand-cu12==10.3.2.106 in /usr/local/lib/python3.10/dist-packages (from torch>=1.2->captum==0.2.0->dive-into-graphs) (10.3.2.106)\n",
            "Requirement already satisfied: nvidia-cusolver-cu12==11.4.5.107 in /usr/local/lib/python3.10/dist-packages (from torch>=1.2->captum==0.2.0->dive-into-graphs) (11.4.5.107)\n",
            "Requirement already satisfied: nvidia-cusparse-cu12==12.1.0.106 in /usr/local/lib/python3.10/dist-packages (from torch>=1.2->captum==0.2.0->dive-into-graphs) (12.1.0.106)\n",
            "Requirement already satisfied: nvidia-nccl-cu12==2.19.3 in /usr/local/lib/python3.10/dist-packages (from torch>=1.2->captum==0.2.0->dive-into-graphs) (2.19.3)\n",
            "Requirement already satisfied: nvidia-nvtx-cu12==12.1.105 in /usr/local/lib/python3.10/dist-packages (from torch>=1.2->captum==0.2.0->dive-into-graphs) (12.1.105)\n",
            "Requirement already satisfied: triton==2.2.0 in /usr/local/lib/python3.10/dist-packages (from torch>=1.2->captum==0.2.0->dive-into-graphs) (2.2.0)\n",
            "Requirement already satisfied: nvidia-nvjitlink-cu12 in /usr/local/lib/python3.10/dist-packages (from nvidia-cusolver-cu12==11.4.5.107->torch>=1.2->captum==0.2.0->dive-into-graphs) (12.4.99)\n",
            "Requirement already satisfied: mypy-extensions>=0.3.0 in /usr/local/lib/python3.10/dist-packages (from typing-inspect>=0.7.1->typed-argument-parser==1.7.2->dive-into-graphs) (1.0.0)\n",
            "Requirement already satisfied: soupsieve>1.2 in /usr/local/lib/python3.10/dist-packages (from beautifulsoup4->gdown->dive-into-graphs) (2.5)\n",
            "Requirement already satisfied: contourpy>=1.0.1 in /usr/local/lib/python3.10/dist-packages (from matplotlib->captum==0.2.0->dive-into-graphs) (1.2.0)\n",
            "Requirement already satisfied: cycler>=0.10 in /usr/local/lib/python3.10/dist-packages (from matplotlib->captum==0.2.0->dive-into-graphs) (0.12.1)\n",
            "Requirement already satisfied: fonttools>=4.22.0 in /usr/local/lib/python3.10/dist-packages (from matplotlib->captum==0.2.0->dive-into-graphs) (4.50.0)\n",
            "Requirement already satisfied: kiwisolver>=1.0.1 in /usr/local/lib/python3.10/dist-packages (from matplotlib->captum==0.2.0->dive-into-graphs) (1.4.5)\n",
            "Requirement already satisfied: pyparsing>=2.3.1 in /usr/local/lib/python3.10/dist-packages (from matplotlib->captum==0.2.0->dive-into-graphs) (3.1.2)\n",
            "Requirement already satisfied: llvmlite<0.42,>=0.41.0dev0 in /usr/local/lib/python3.10/dist-packages (from numba->shap->dive-into-graphs) (0.41.1)\n",
            "Requirement already satisfied: et-xmlfile in /usr/local/lib/python3.10/dist-packages (from openpyxl->cilog->dive-into-graphs) (1.1.0)\n",
            "Requirement already satisfied: charset-normalizer<4,>=2 in /usr/local/lib/python3.10/dist-packages (from requests[socks]->gdown->dive-into-graphs) (3.3.2)\n",
            "Requirement already satisfied: idna<4,>=2.5 in /usr/local/lib/python3.10/dist-packages (from requests[socks]->gdown->dive-into-graphs) (3.6)\n",
            "Requirement already satisfied: urllib3<3,>=1.21.1 in /usr/local/lib/python3.10/dist-packages (from requests[socks]->gdown->dive-into-graphs) (2.0.7)\n",
            "Requirement already satisfied: certifi>=2017.4.17 in /usr/local/lib/python3.10/dist-packages (from requests[socks]->gdown->dive-into-graphs) (2024.2.2)\n",
            "Requirement already satisfied: PySocks!=1.5.7,>=1.5.6 in /usr/local/lib/python3.10/dist-packages (from requests[socks]->gdown->dive-into-graphs) (1.7.1)\n",
            "Requirement already satisfied: joblib>=1.1.1 in /usr/local/lib/python3.10/dist-packages (from scikit-learn->shap->dive-into-graphs) (1.3.2)\n",
            "Requirement already satisfied: threadpoolctl>=2.0.0 in /usr/local/lib/python3.10/dist-packages (from scikit-learn->shap->dive-into-graphs) (3.4.0)\n",
            "Requirement already satisfied: MarkupSafe>=2.0 in /usr/local/lib/python3.10/dist-packages (from jinja2->torch>=1.2->captum==0.2.0->dive-into-graphs) (2.1.5)\n",
            "Requirement already satisfied: dive-into-graphs in /usr/local/lib/python3.10/dist-packages (1.1.0)\n",
            "Requirement already satisfied: scipy in /usr/local/lib/python3.10/dist-packages (from dive-into-graphs) (1.11.4)\n",
            "Requirement already satisfied: cilog in /usr/local/lib/python3.10/dist-packages (from dive-into-graphs) (1.3.0)\n",
            "Requirement already satisfied: typed-argument-parser==1.7.2 in /usr/local/lib/python3.10/dist-packages (from dive-into-graphs) (1.7.2)\n",
            "Requirement already satisfied: captum==0.2.0 in /usr/local/lib/python3.10/dist-packages (from dive-into-graphs) (0.2.0)\n",
            "Requirement already satisfied: munch in /usr/local/lib/python3.10/dist-packages (from dive-into-graphs) (4.0.0)\n",
            "Requirement already satisfied: gdown in /usr/local/lib/python3.10/dist-packages (from dive-into-graphs) (4.7.3)\n",
            "Requirement already satisfied: shap in /usr/local/lib/python3.10/dist-packages (from dive-into-graphs) (0.45.0)\n",
            "Requirement already satisfied: IPython in /usr/local/lib/python3.10/dist-packages (from dive-into-graphs) (7.34.0)\n",
            "Requirement already satisfied: tqdm in /usr/local/lib/python3.10/dist-packages (from dive-into-graphs) (4.66.2)\n",
            "Requirement already satisfied: rdkit-pypi in /usr/local/lib/python3.10/dist-packages (from dive-into-graphs) (2022.9.5)\n",
            "Requirement already satisfied: pandas in /usr/local/lib/python3.10/dist-packages (from dive-into-graphs) (1.5.3)\n",
            "Requirement already satisfied: sympy in /usr/local/lib/python3.10/dist-packages (from dive-into-graphs) (1.12)\n",
            "Requirement already satisfied: pyscf>=1.7.6 in /usr/local/lib/python3.10/dist-packages (from dive-into-graphs) (2.5.0)\n",
            "Requirement already satisfied: hydra-core in /usr/local/lib/python3.10/dist-packages (from dive-into-graphs) (1.3.2)\n",
            "Requirement already satisfied: matplotlib in /usr/local/lib/python3.10/dist-packages (from captum==0.2.0->dive-into-graphs) (3.7.1)\n",
            "Requirement already satisfied: numpy in /usr/local/lib/python3.10/dist-packages (from captum==0.2.0->dive-into-graphs) (1.25.2)\n",
            "Requirement already satisfied: torch>=1.2 in /usr/local/lib/python3.10/dist-packages (from captum==0.2.0->dive-into-graphs) (2.2.1+cu121)\n",
            "Requirement already satisfied: typing-extensions>=3.7.4 in /usr/local/lib/python3.10/dist-packages (from typed-argument-parser==1.7.2->dive-into-graphs) (4.10.0)\n",
            "Requirement already satisfied: typing-inspect>=0.7.1 in /usr/local/lib/python3.10/dist-packages (from typed-argument-parser==1.7.2->dive-into-graphs) (0.9.0)\n",
            "Requirement already satisfied: h5py>=2.7 in /usr/local/lib/python3.10/dist-packages (from pyscf>=1.7.6->dive-into-graphs) (3.9.0)\n",
            "Requirement already satisfied: setuptools in /usr/local/lib/python3.10/dist-packages (from pyscf>=1.7.6->dive-into-graphs) (67.7.2)\n",
            "Requirement already satisfied: tabulate in /usr/local/lib/python3.10/dist-packages (from cilog->dive-into-graphs) (0.9.0)\n",
            "Requirement already satisfied: openpyxl in /usr/local/lib/python3.10/dist-packages (from cilog->dive-into-graphs) (3.1.2)\n",
            "Requirement already satisfied: filelock in /usr/local/lib/python3.10/dist-packages (from gdown->dive-into-graphs) (3.13.3)\n",
            "Requirement already satisfied: requests[socks] in /usr/local/lib/python3.10/dist-packages (from gdown->dive-into-graphs) (2.31.0)\n",
            "Requirement already satisfied: six in /usr/local/lib/python3.10/dist-packages (from gdown->dive-into-graphs) (1.16.0)\n",
            "Requirement already satisfied: beautifulsoup4 in /usr/local/lib/python3.10/dist-packages (from gdown->dive-into-graphs) (4.12.3)\n",
            "Requirement already satisfied: omegaconf<2.4,>=2.2 in /usr/local/lib/python3.10/dist-packages (from hydra-core->dive-into-graphs) (2.3.0)\n",
            "Requirement already satisfied: antlr4-python3-runtime==4.9.* in /usr/local/lib/python3.10/dist-packages (from hydra-core->dive-into-graphs) (4.9.3)\n",
            "Requirement already satisfied: packaging in /usr/local/lib/python3.10/dist-packages (from hydra-core->dive-into-graphs) (24.0)\n",
            "Requirement already satisfied: jedi>=0.16 in /usr/local/lib/python3.10/dist-packages (from IPython->dive-into-graphs) (0.19.1)\n",
            "Requirement already satisfied: decorator in /usr/local/lib/python3.10/dist-packages (from IPython->dive-into-graphs) (4.4.2)\n",
            "Requirement already satisfied: pickleshare in /usr/local/lib/python3.10/dist-packages (from IPython->dive-into-graphs) (0.7.5)\n",
            "Requirement already satisfied: traitlets>=4.2 in /usr/local/lib/python3.10/dist-packages (from IPython->dive-into-graphs) (5.7.1)\n",
            "Requirement already satisfied: prompt-toolkit!=3.0.0,!=3.0.1,<3.1.0,>=2.0.0 in /usr/local/lib/python3.10/dist-packages (from IPython->dive-into-graphs) (3.0.43)\n",
            "Requirement already satisfied: pygments in /usr/local/lib/python3.10/dist-packages (from IPython->dive-into-graphs) (2.16.1)\n",
            "Requirement already satisfied: backcall in /usr/local/lib/python3.10/dist-packages (from IPython->dive-into-graphs) (0.2.0)\n",
            "Requirement already satisfied: matplotlib-inline in /usr/local/lib/python3.10/dist-packages (from IPython->dive-into-graphs) (0.1.6)\n",
            "Requirement already satisfied: pexpect>4.3 in /usr/local/lib/python3.10/dist-packages (from IPython->dive-into-graphs) (4.9.0)\n",
            "Requirement already satisfied: python-dateutil>=2.8.1 in /usr/local/lib/python3.10/dist-packages (from pandas->dive-into-graphs) (2.8.2)\n",
            "Requirement already satisfied: pytz>=2020.1 in /usr/local/lib/python3.10/dist-packages (from pandas->dive-into-graphs) (2023.4)\n",
            "Requirement already satisfied: Pillow in /usr/local/lib/python3.10/dist-packages (from rdkit-pypi->dive-into-graphs) (9.4.0)\n",
            "Requirement already satisfied: scikit-learn in /usr/local/lib/python3.10/dist-packages (from shap->dive-into-graphs) (1.2.2)\n",
            "Requirement already satisfied: slicer==0.0.7 in /usr/local/lib/python3.10/dist-packages (from shap->dive-into-graphs) (0.0.7)\n",
            "Requirement already satisfied: numba in /usr/local/lib/python3.10/dist-packages (from shap->dive-into-graphs) (0.58.1)\n",
            "Requirement already satisfied: cloudpickle in /usr/local/lib/python3.10/dist-packages (from shap->dive-into-graphs) (2.2.1)\n",
            "Requirement already satisfied: mpmath>=0.19 in /usr/local/lib/python3.10/dist-packages (from sympy->dive-into-graphs) (1.3.0)\n",
            "Requirement already satisfied: parso<0.9.0,>=0.8.3 in /usr/local/lib/python3.10/dist-packages (from jedi>=0.16->IPython->dive-into-graphs) (0.8.3)\n",
            "Requirement already satisfied: PyYAML>=5.1.0 in /usr/local/lib/python3.10/dist-packages (from omegaconf<2.4,>=2.2->hydra-core->dive-into-graphs) (6.0.1)\n",
            "Requirement already satisfied: ptyprocess>=0.5 in /usr/local/lib/python3.10/dist-packages (from pexpect>4.3->IPython->dive-into-graphs) (0.7.0)\n",
            "Requirement already satisfied: wcwidth in /usr/local/lib/python3.10/dist-packages (from prompt-toolkit!=3.0.0,!=3.0.1,<3.1.0,>=2.0.0->IPython->dive-into-graphs) (0.2.13)\n",
            "Requirement already satisfied: networkx in /usr/local/lib/python3.10/dist-packages (from torch>=1.2->captum==0.2.0->dive-into-graphs) (3.2.1)\n",
            "Requirement already satisfied: jinja2 in /usr/local/lib/python3.10/dist-packages (from torch>=1.2->captum==0.2.0->dive-into-graphs) (3.1.3)\n",
            "Requirement already satisfied: fsspec in /usr/local/lib/python3.10/dist-packages (from torch>=1.2->captum==0.2.0->dive-into-graphs) (2023.6.0)\n",
            "Requirement already satisfied: nvidia-cuda-nvrtc-cu12==12.1.105 in /usr/local/lib/python3.10/dist-packages (from torch>=1.2->captum==0.2.0->dive-into-graphs) (12.1.105)\n",
            "Requirement already satisfied: nvidia-cuda-runtime-cu12==12.1.105 in /usr/local/lib/python3.10/dist-packages (from torch>=1.2->captum==0.2.0->dive-into-graphs) (12.1.105)\n",
            "Requirement already satisfied: nvidia-cuda-cupti-cu12==12.1.105 in /usr/local/lib/python3.10/dist-packages (from torch>=1.2->captum==0.2.0->dive-into-graphs) (12.1.105)\n",
            "Requirement already satisfied: nvidia-cudnn-cu12==8.9.2.26 in /usr/local/lib/python3.10/dist-packages (from torch>=1.2->captum==0.2.0->dive-into-graphs) (8.9.2.26)\n",
            "Requirement already satisfied: nvidia-cublas-cu12==12.1.3.1 in /usr/local/lib/python3.10/dist-packages (from torch>=1.2->captum==0.2.0->dive-into-graphs) (12.1.3.1)\n",
            "Requirement already satisfied: nvidia-cufft-cu12==11.0.2.54 in /usr/local/lib/python3.10/dist-packages (from torch>=1.2->captum==0.2.0->dive-into-graphs) (11.0.2.54)\n",
            "Requirement already satisfied: nvidia-curand-cu12==10.3.2.106 in /usr/local/lib/python3.10/dist-packages (from torch>=1.2->captum==0.2.0->dive-into-graphs) (10.3.2.106)\n",
            "Requirement already satisfied: nvidia-cusolver-cu12==11.4.5.107 in /usr/local/lib/python3.10/dist-packages (from torch>=1.2->captum==0.2.0->dive-into-graphs) (11.4.5.107)\n",
            "Requirement already satisfied: nvidia-cusparse-cu12==12.1.0.106 in /usr/local/lib/python3.10/dist-packages (from torch>=1.2->captum==0.2.0->dive-into-graphs) (12.1.0.106)\n",
            "Requirement already satisfied: nvidia-nccl-cu12==2.19.3 in /usr/local/lib/python3.10/dist-packages (from torch>=1.2->captum==0.2.0->dive-into-graphs) (2.19.3)\n",
            "Requirement already satisfied: nvidia-nvtx-cu12==12.1.105 in /usr/local/lib/python3.10/dist-packages (from torch>=1.2->captum==0.2.0->dive-into-graphs) (12.1.105)\n",
            "Requirement already satisfied: triton==2.2.0 in /usr/local/lib/python3.10/dist-packages (from torch>=1.2->captum==0.2.0->dive-into-graphs) (2.2.0)\n",
            "Requirement already satisfied: nvidia-nvjitlink-cu12 in /usr/local/lib/python3.10/dist-packages (from nvidia-cusolver-cu12==11.4.5.107->torch>=1.2->captum==0.2.0->dive-into-graphs) (12.4.99)\n",
            "Requirement already satisfied: mypy-extensions>=0.3.0 in /usr/local/lib/python3.10/dist-packages (from typing-inspect>=0.7.1->typed-argument-parser==1.7.2->dive-into-graphs) (1.0.0)\n",
            "Requirement already satisfied: soupsieve>1.2 in /usr/local/lib/python3.10/dist-packages (from beautifulsoup4->gdown->dive-into-graphs) (2.5)\n",
            "Requirement already satisfied: contourpy>=1.0.1 in /usr/local/lib/python3.10/dist-packages (from matplotlib->captum==0.2.0->dive-into-graphs) (1.2.0)\n",
            "Requirement already satisfied: cycler>=0.10 in /usr/local/lib/python3.10/dist-packages (from matplotlib->captum==0.2.0->dive-into-graphs) (0.12.1)\n",
            "Requirement already satisfied: fonttools>=4.22.0 in /usr/local/lib/python3.10/dist-packages (from matplotlib->captum==0.2.0->dive-into-graphs) (4.50.0)\n",
            "Requirement already satisfied: kiwisolver>=1.0.1 in /usr/local/lib/python3.10/dist-packages (from matplotlib->captum==0.2.0->dive-into-graphs) (1.4.5)\n",
            "Requirement already satisfied: pyparsing>=2.3.1 in /usr/local/lib/python3.10/dist-packages (from matplotlib->captum==0.2.0->dive-into-graphs) (3.1.2)\n",
            "Requirement already satisfied: llvmlite<0.42,>=0.41.0dev0 in /usr/local/lib/python3.10/dist-packages (from numba->shap->dive-into-graphs) (0.41.1)\n",
            "Requirement already satisfied: et-xmlfile in /usr/local/lib/python3.10/dist-packages (from openpyxl->cilog->dive-into-graphs) (1.1.0)\n",
            "Requirement already satisfied: charset-normalizer<4,>=2 in /usr/local/lib/python3.10/dist-packages (from requests[socks]->gdown->dive-into-graphs) (3.3.2)\n",
            "Requirement already satisfied: idna<4,>=2.5 in /usr/local/lib/python3.10/dist-packages (from requests[socks]->gdown->dive-into-graphs) (3.6)\n",
            "Requirement already satisfied: urllib3<3,>=1.21.1 in /usr/local/lib/python3.10/dist-packages (from requests[socks]->gdown->dive-into-graphs) (2.0.7)\n",
            "Requirement already satisfied: certifi>=2017.4.17 in /usr/local/lib/python3.10/dist-packages (from requests[socks]->gdown->dive-into-graphs) (2024.2.2)\n",
            "Requirement already satisfied: PySocks!=1.5.7,>=1.5.6 in /usr/local/lib/python3.10/dist-packages (from requests[socks]->gdown->dive-into-graphs) (1.7.1)\n",
            "Requirement already satisfied: joblib>=1.1.1 in /usr/local/lib/python3.10/dist-packages (from scikit-learn->shap->dive-into-graphs) (1.3.2)\n",
            "Requirement already satisfied: threadpoolctl>=2.0.0 in /usr/local/lib/python3.10/dist-packages (from scikit-learn->shap->dive-into-graphs) (3.4.0)\n",
            "Requirement already satisfied: MarkupSafe>=2.0 in /usr/local/lib/python3.10/dist-packages (from jinja2->torch>=1.2->captum==0.2.0->dive-into-graphs) (2.1.5)\n",
            "Requirement already satisfied: torch_geometric in /usr/local/lib/python3.10/dist-packages (2.5.2)\n",
            "Requirement already satisfied: tqdm in /usr/local/lib/python3.10/dist-packages (from torch_geometric) (4.66.2)\n",
            "Requirement already satisfied: numpy in /usr/local/lib/python3.10/dist-packages (from torch_geometric) (1.25.2)\n",
            "Requirement already satisfied: scipy in /usr/local/lib/python3.10/dist-packages (from torch_geometric) (1.11.4)\n",
            "Requirement already satisfied: fsspec in /usr/local/lib/python3.10/dist-packages (from torch_geometric) (2023.6.0)\n",
            "Requirement already satisfied: jinja2 in /usr/local/lib/python3.10/dist-packages (from torch_geometric) (3.1.3)\n",
            "Requirement already satisfied: aiohttp in /usr/local/lib/python3.10/dist-packages (from torch_geometric) (3.9.3)\n",
            "Requirement already satisfied: requests in /usr/local/lib/python3.10/dist-packages (from torch_geometric) (2.31.0)\n",
            "Requirement already satisfied: pyparsing in /usr/local/lib/python3.10/dist-packages (from torch_geometric) (3.1.2)\n",
            "Requirement already satisfied: scikit-learn in /usr/local/lib/python3.10/dist-packages (from torch_geometric) (1.2.2)\n",
            "Requirement already satisfied: psutil>=5.8.0 in /usr/local/lib/python3.10/dist-packages (from torch_geometric) (5.9.5)\n",
            "Requirement already satisfied: aiosignal>=1.1.2 in /usr/local/lib/python3.10/dist-packages (from aiohttp->torch_geometric) (1.3.1)\n",
            "Requirement already satisfied: attrs>=17.3.0 in /usr/local/lib/python3.10/dist-packages (from aiohttp->torch_geometric) (23.2.0)\n",
            "Requirement already satisfied: frozenlist>=1.1.1 in /usr/local/lib/python3.10/dist-packages (from aiohttp->torch_geometric) (1.4.1)\n",
            "Requirement already satisfied: multidict<7.0,>=4.5 in /usr/local/lib/python3.10/dist-packages (from aiohttp->torch_geometric) (6.0.5)\n",
            "Requirement already satisfied: yarl<2.0,>=1.0 in /usr/local/lib/python3.10/dist-packages (from aiohttp->torch_geometric) (1.9.4)\n",
            "Requirement already satisfied: async-timeout<5.0,>=4.0 in /usr/local/lib/python3.10/dist-packages (from aiohttp->torch_geometric) (4.0.3)\n",
            "Requirement already satisfied: MarkupSafe>=2.0 in /usr/local/lib/python3.10/dist-packages (from jinja2->torch_geometric) (2.1.5)\n",
            "Requirement already satisfied: charset-normalizer<4,>=2 in /usr/local/lib/python3.10/dist-packages (from requests->torch_geometric) (3.3.2)\n",
            "Requirement already satisfied: idna<4,>=2.5 in /usr/local/lib/python3.10/dist-packages (from requests->torch_geometric) (3.6)\n",
            "Requirement already satisfied: urllib3<3,>=1.21.1 in /usr/local/lib/python3.10/dist-packages (from requests->torch_geometric) (2.0.7)\n",
            "Requirement already satisfied: certifi>=2017.4.17 in /usr/local/lib/python3.10/dist-packages (from requests->torch_geometric) (2024.2.2)\n",
            "Requirement already satisfied: joblib>=1.1.1 in /usr/local/lib/python3.10/dist-packages (from scikit-learn->torch_geometric) (1.3.2)\n",
            "Requirement already satisfied: threadpoolctl>=2.0.0 in /usr/local/lib/python3.10/dist-packages (from scikit-learn->torch_geometric) (3.4.0)\n",
            "Collecting torch_sparse\n",
            "  Using cached torch_sparse-0.6.18.tar.gz (209 kB)\n",
            "  Preparing metadata (setup.py) ... \u001b[?25l\u001b[?25hdone\n",
            "Requirement already satisfied: scipy in /usr/local/lib/python3.10/dist-packages (from torch_sparse) (1.11.4)\n",
            "Requirement already satisfied: numpy<1.28.0,>=1.21.6 in /usr/local/lib/python3.10/dist-packages (from scipy->torch_sparse) (1.25.2)\n",
            "Building wheels for collected packages: torch_sparse\n",
            "  Building wheel for torch_sparse (setup.py) ... \u001b[?25l\u001b[?25hdone\n",
            "  Created wheel for torch_sparse: filename=torch_sparse-0.6.18-cp310-cp310-linux_x86_64.whl size=1071448 sha256=bca4382a1676d9421ed7d45f941769d2cd42d6e3e633c2e8590c97c1d16e2807\n",
            "  Stored in directory: /root/.cache/pip/wheels/c9/dd/0f/a6a16f9f3b0236733d257b4b4ea91b548b984a341ed3b8f38c\n",
            "Successfully built torch_sparse\n",
            "Installing collected packages: torch_sparse\n",
            "Successfully installed torch_sparse-0.6.18\n",
            "Collecting torch_cluster\n",
            "  Using cached torch_cluster-1.6.3.tar.gz (54 kB)\n",
            "  Preparing metadata (setup.py) ... \u001b[?25l\u001b[?25hdone\n",
            "Requirement already satisfied: scipy in /usr/local/lib/python3.10/dist-packages (from torch_cluster) (1.11.4)\n",
            "Requirement already satisfied: numpy<1.28.0,>=1.21.6 in /usr/local/lib/python3.10/dist-packages (from scipy->torch_cluster) (1.25.2)\n",
            "Building wheels for collected packages: torch_cluster\n",
            "  Building wheel for torch_cluster (setup.py) ... \u001b[?25l\u001b[?25hdone\n",
            "  Created wheel for torch_cluster: filename=torch_cluster-1.6.3-cp310-cp310-linux_x86_64.whl size=714413 sha256=3835d4d89a8ba8fe91b6bfa9a62e0be7cba253fc9822f8830a2c6e1d5061995b\n",
            "  Stored in directory: /root/.cache/pip/wheels/51/78/c3/536637b3cdcc3313aa5e8851a6c72b97f6a01877e68c7595e3\n",
            "Successfully built torch_cluster\n",
            "Installing collected packages: torch_cluster\n",
            "Successfully installed torch_cluster-1.6.3\n",
            "Collecting torch_scatter\n",
            "  Downloading torch_scatter-2.1.2.tar.gz (108 kB)\n",
            "\u001b[2K     \u001b[90m━━━━━━━━━━━━━━━━━━━━━━━━━━━━━━━━━━━━━━━━\u001b[0m \u001b[32m108.0/108.0 kB\u001b[0m \u001b[31m2.6 MB/s\u001b[0m eta \u001b[36m0:00:00\u001b[0m\n",
            "\u001b[?25h  Preparing metadata (setup.py) ... \u001b[?25l\u001b[?25hdone\n",
            "Building wheels for collected packages: torch_scatter\n",
            "  Building wheel for torch_scatter (setup.py) ... \u001b[?25l\u001b[?25hdone\n",
            "  Created wheel for torch_scatter: filename=torch_scatter-2.1.2-cp310-cp310-linux_x86_64.whl size=504020 sha256=55afa82e066739b997ff069a3f759790d8bd60e7071bb3c8369e5f88494e573c\n",
            "  Stored in directory: /root/.cache/pip/wheels/92/f1/2b/3b46d54b134259f58c8363568569053248040859b1a145b3ce\n",
            "Successfully built torch_scatter\n",
            "Installing collected packages: torch_scatter\n",
            "Successfully installed torch_scatter-2.1.2\n"
          ]
        }
      ],
      "source": [
        "!pip install dive-into-graphs\n",
        "!pip install dive-into-graphs\n",
        "!pip install torch_geometric\n",
        "!pip install torch_sparse\n",
        "!pip install torch_cluster\n",
        "!pip install torch_scatter"
      ]
    },
    {
      "cell_type": "code",
      "source": [
        "\n",
        "import torch\n",
        "from torch.utils.data import Dataset\n",
        "from torch.utils.data import DataLoader\n",
        "import numpy as np\n",
        "import pandas as pd\n",
        "import tqdm\n",
        "import re\n",
        "from torch_geometric.data import Data, DataLoader\n",
        "from torch_geometric.data import InMemoryDataset, download_url\n",
        "from sklearn.utils import shuffle\n",
        "import os.path as osp\n",
        "from torch_scatter import scatter\n",
        "from dig.threedgraph.dataset import QM93D\n",
        "from dig.threedgraph.method import ComENet\n",
        "from dig.threedgraph.evaluation import ThreeDEvaluator\n",
        "from dig.threedgraph.method import run"
      ],
      "metadata": {
        "id": "Tuig7P3STUI5"
      },
      "execution_count": 4,
      "outputs": []
    },
    {
      "cell_type": "code",
      "execution_count": 5,
      "metadata": {
        "colab": {
          "base_uri": "https://localhost:8080/"
        },
        "id": "llKNsKov_Knu",
        "outputId": "587b5e83-e96b-4741-ca82-0a357ca8d9f6"
      },
      "outputs": [
        {
          "output_type": "stream",
          "name": "stdout",
          "text": [
            "1.1.0\n"
          ]
        }
      ],
      "source": [
        "from dig.version import __version__\n",
        "print(__version__)"
      ]
    },
    {
      "cell_type": "code",
      "execution_count": 14,
      "metadata": {
        "id": "pkaThCxR_KqE"
      },
      "outputs": [],
      "source": [
        "with open('/content/data_all_new.txt', 'r') as f:\n",
        "    data = np.array(f.readlines()[1:])\n",
        "# data\n",
        "\n",
        "# df = {'idx': [], 'molecule': [], 'energy': [], 'number': []}\n",
        "df = {'idx': [], 'number': [], 'energy': [], 'atom': [], 'molecule_struct': []}\n",
        "i = 0\n",
        "for j, x in enumerate((data)):\n",
        "    if re.search(r'\"\\d{1,}', x):\n",
        "        i = j + 2\n",
        "        df['idx'].append(x[1:-1])\n",
        "    elif '\"' in x:\n",
        "        last = data[j].split('\\t')\n",
        "        df1 = np.concatenate([data[i:j], [last[0]]], axis=None)\n",
        "        df1 = pd.DataFrame([arr[:-1].split(' ') for arr in df1])\n",
        "        df['energy'].append(float(last[1]))\n",
        "        df['number'].append(last[2])\n",
        "        df['atom'].append(np.array(df1.iloc[:, 0]))\n",
        "        df['molecule_struct'].append(np.array(df1.iloc[:, 1:].transform(pd.to_numeric, errors='coerce').values.tolist()))\n",
        "        # df['molecule'].append(df1)\n",
        "molec_data = pd.DataFrame(df)\n",
        "\n",
        "atom_ser = molec_data['atom']\n",
        "for i in range(len(atom_ser)):\n",
        "    for k in range(len(molec_data['atom'][i])):\n",
        "        if molec_data['atom'][i][k]=='H':\n",
        "            atom_ser[i][k]=1\n",
        "        if molec_data['atom'][i][k]=='C':\n",
        "            atom_ser[i][k]=6\n",
        "\n",
        "\n",
        "\n",
        "data = pd.DataFrame(molec_data['energy'])\n",
        "\n",
        "data = data.rename(columns={'energy': 'U0'})\n",
        "\n",
        "target = {}\n",
        "for name in ['mu', 'alpha', 'homo', 'lumo', 'gap', 'r2', 'zpve', 'U', 'H', 'G', 'Cv']:\n",
        "    target[name] = np.expand_dims(np.zeros(len(data['U0'])),axis=-1)\n",
        "target['U0'] = np.expand_dims(data['U0'],axis=-1)\n",
        "\n",
        "data_list = []\n",
        "for i in (range(len(molec_data['atom']))):\n",
        "    R_i = torch.tensor(molec_data['molecule_struct'][i],dtype=torch.float32)\n",
        "    z_i = torch.tensor(np.array(atom_ser[i], dtype='float32'),dtype=torch.int64)\n",
        "    y_i = [torch.tensor(target[name][i],dtype=torch.float32) for name in ['mu', 'alpha', 'homo', 'lumo', 'gap', 'r2', 'zpve','U0', 'U', 'H', 'G', 'Cv']]\n",
        "    data = Data(pos=R_i, z=z_i, y=y_i[7], mu=y_i[0], alpha=y_i[1], homo=y_i[2], lumo=y_i[3], gap=y_i[4], r2=y_i[5], zpve=y_i[6], U0=y_i[7], U=y_i[8], H=y_i[9], G=y_i[10], Cv=y_i[11])\n",
        "\n",
        "    data_list.append(data)"
      ]
    },
    {
      "cell_type": "code",
      "source": [
        "# for step, batch_data in enumerate(DataLoader(data_list, batch_size=32, shuffle=True)):\n",
        "#     print(step, batch_data.y)"
      ],
      "metadata": {
        "id": "UhzS7rj37Sr_"
      },
      "execution_count": 1,
      "outputs": []
    },
    {
      "cell_type": "code",
      "execution_count": 24,
      "metadata": {
        "id": "66kKBYS0-lfP"
      },
      "outputs": [],
      "source": [
        "# # Load the dataset and split\n",
        "# dataset = QM93D(root='dataset/')\n",
        "# target = 'U0'\n",
        "# dataset.data.y = dataset.data[target]\n",
        "# split_idx = dataset.get_idx_split(len(dataset.data.y), train_size=110000, valid_size=10000, seed=42)\n",
        "# train_dataset, valid_dataset, test_dataset = dataset[split_idx['train']], dataset[split_idx['valid']], dataset[split_idx['test']]\n"
      ]
    },
    {
      "cell_type": "code",
      "source": [
        "def get_idx_split(data_size, train_size, valid_size, seed):\n",
        "    ids = shuffle(range(data_size), random_state=seed)\n",
        "    train_idx, val_idx, test_idx = torch.tensor(ids[:train_size]), torch.tensor(ids[train_size:train_size + valid_size]), torch.tensor(ids[train_size + valid_size:])\n",
        "    split_dict = {'train':train_idx, 'valid':val_idx, 'test':test_idx}\n",
        "    return split_dict"
      ],
      "metadata": {
        "id": "Tl9t5SUBABP6"
      },
      "execution_count": 25,
      "outputs": []
    },
    {
      "cell_type": "code",
      "source": [
        "split_idx = get_idx_split(data_size=len(data_list), train_size=int(len(data_list)*0.7), valid_size=int(len(data_list)*0.2), seed=42)"
      ],
      "metadata": {
        "id": "CpvdkaBmABXo"
      },
      "execution_count": 26,
      "outputs": []
    },
    {
      "cell_type": "code",
      "source": [
        "# разбивка на датасеты\n",
        "\n",
        "train_dataset = []\n",
        "for i in split_idx['train']:\n",
        "  train_dataset.append(data_list[i])\n",
        "\n",
        "\n",
        "valid_dataset = []\n",
        "for i in split_idx['valid']:\n",
        "  valid_dataset.append(data_list[i])\n",
        "\n",
        "test_dataset = []\n",
        "for i in split_idx['test']:\n",
        "  test_dataset.append(data_list[i])\n",
        "\n",
        "train_loader = DataLoader(train_dataset, batch_size=32, shuffle=True)"
      ],
      "metadata": {
        "id": "cCZDLG6lJEGx"
      },
      "execution_count": 27,
      "outputs": []
    },
    {
      "cell_type": "code",
      "execution_count": 29,
      "metadata": {
        "id": "HtB1zjwaIK-T"
      },
      "outputs": [],
      "source": [
        "# Define model, loss, and evaluation\n",
        "\n",
        "device = torch.device(\"cpu\")\n",
        "\n",
        "\n",
        "model = ComENet(#energy_and_force=False,\n",
        "                cutoff=5.0, num_layers=4,\n",
        "                  hidden_channels=128, out_channels=1,\n",
        "                #int_emb_size=64,\n",
        "                 # basis_emb_size_dist=8, basis_emb_size_angle=8, basis_emb_size_torsion=8, out_emb_channels=256,\n",
        "                 # num_spherical=3, num_radial=6, envelope_exponent=5,\n",
        "                #  num_before_skip=1, num_after_skip=2,\n",
        "                num_output_layers=3)\n",
        "loss_func = torch.nn.L1Loss()\n",
        "evaluation = ThreeDEvaluator()\n"
      ]
    },
    {
      "cell_type": "code",
      "execution_count": 30,
      "metadata": {
        "id": "m8XXhqYYL0eM"
      },
      "outputs": [],
      "source": [
        "import time\n",
        "import os\n",
        "import torch\n",
        "from torch.optim import Adam\n",
        "from torch_geometric.data import DataLoader\n",
        "import numpy as np\n",
        "from torch.autograd import grad\n",
        "from torch.utils.tensorboard import SummaryWriter\n",
        "from torch.optim.lr_scheduler import StepLR\n",
        "from tqdm import tqdm\n",
        "\n",
        "class run():\n",
        "    r\"\"\"\n",
        "    The base script for running different 3DGN methods.\n",
        "    \"\"\"\n",
        "    def __init__(self):\n",
        "        pass\n",
        "\n",
        "    def run(self, device, train_dataset, valid_dataset, test_dataset, model, loss_func, evaluation, epochs=500, batch_size=32, vt_batch_size=32, lr=0.0005, lr_decay_factor=0.5, lr_decay_step_size=50, weight_decay=0,\n",
        "        energy_and_force=False, p=100, save_dir='', log_dir=''):\n",
        "        r\"\"\"\n",
        "        The run script for training and validation.\n",
        "\n",
        "        Args:\n",
        "            device (torch.device): Device for computation.\n",
        "            train_dataset: Training data.\n",
        "            valid_dataset: Validation data.\n",
        "            test_dataset: Test data.\n",
        "            model: Which 3DGN model to use. Should be one of the SchNet, DimeNetPP, and SphereNet.\n",
        "            loss_func (function): The used loss funtion for training.\n",
        "            evaluation (function): The evaluation function.\n",
        "            epochs (int, optinal): Number of total training epochs. (default: :obj:`500`)\n",
        "            batch_size (int, optinal): Number of samples in each minibatch in training. (default: :obj:`32`)\n",
        "            vt_batch_size (int, optinal): Number of samples in each minibatch in validation/testing. (default: :obj:`32`)\n",
        "            lr (float, optinal): Initial learning rate. (default: :obj:`0.0005`)\n",
        "            lr_decay_factor (float, optinal): Learning rate decay factor. (default: :obj:`0.5`)\n",
        "            lr_decay_step_size (int, optinal): epochs at which lr_initial <- lr_initial * lr_decay_factor. (default: :obj:`50`)\n",
        "            weight_decay (float, optinal): weight decay factor at the regularization term. (default: :obj:`0`)\n",
        "            energy_and_force (bool, optional): If set to :obj:`True`, will predict energy and take the minus derivative of the energy with respect to the atomic positions as predicted forces. (default: :obj:`False`)\n",
        "            p (int, optinal): The forces’ weight for a joint loss of forces and conserved energy during training. (default: :obj:`100`)\n",
        "            save_dir (str, optinal): The path to save trained models. If set to :obj:`''`, will not save the model. (default: :obj:`''`)\n",
        "            log_dir (str, optinal): The path to save log files. If set to :obj:`''`, will not save the log files. (default: :obj:`''`)\n",
        "\n",
        "        \"\"\"\n",
        "\n",
        "        model = model.to(device)\n",
        "        num_params = sum(p.numel() for p in model.parameters())\n",
        "        print(f'#Params: {num_params}')\n",
        "        optimizer = Adam(model.parameters(), lr=lr, weight_decay=weight_decay)\n",
        "        scheduler = StepLR(optimizer, step_size=lr_decay_step_size, gamma=lr_decay_factor)\n",
        "\n",
        "        train_loader = DataLoader(train_dataset, batch_size, shuffle=True)\n",
        "        valid_loader = DataLoader(valid_dataset, vt_batch_size, shuffle=False)\n",
        "        test_loader = DataLoader(test_dataset, vt_batch_size, shuffle=False)\n",
        "        best_valid = float('inf')\n",
        "        best_test = float('inf')\n",
        "\n",
        "        if save_dir != '':\n",
        "            if not os.path.exists(save_dir):\n",
        "                os.makedirs(save_dir)\n",
        "        if log_dir != '':\n",
        "            if not os.path.exists(log_dir):\n",
        "                os.makedirs(log_dir)\n",
        "            writer = SummaryWriter(log_dir=log_dir)\n",
        "\n",
        "\n",
        "        train_mae_arr=[]\n",
        "        val_mae_arr=[]\n",
        "        test_mae_arr=[]\n",
        "\n",
        "        for epoch in range(1, epochs + 1):\n",
        "            print(\"\\n=====Epoch {}\".format(epoch), flush=True)\n",
        "\n",
        "            print('\\nTraining...', flush=True)\n",
        "            train_mae = self.train(model, optimizer, train_loader, energy_and_force, p, loss_func, device)\n",
        "            train_mae_arr.append(train_mae)\n",
        "\n",
        "            print('\\n\\nEvaluating...', flush=True)\n",
        "            valid_mae = self.val(model, valid_loader, energy_and_force, p, evaluation, device)\n",
        "            val_mae_arr.append(valid_mae)\n",
        "\n",
        "            print('\\n\\nTesting...', flush=True)\n",
        "            test_mae = self.val(model, test_loader, energy_and_force, p, evaluation, device)\n",
        "            test_mae_arr.append(test_mae)\n",
        "\n",
        "            print()\n",
        "            print('train_mae_arr', train_mae_arr, 'val_mae_arr', val_mae_arr, 'test_mae_arr', test_mae_arr)\n",
        "            print({'Train': train_mae, 'Validation': valid_mae, 'Test': test_mae})\n",
        "\n",
        "            if log_dir != '':\n",
        "                writer.add_scalar('train_mae', train_mae, epoch)\n",
        "                writer.add_scalar('valid_mae', valid_mae, epoch)\n",
        "                writer.add_scalar('test_mae', test_mae, epoch)\n",
        "\n",
        "            if valid_mae < best_valid:\n",
        "                best_valid = valid_mae\n",
        "                best_test = test_mae\n",
        "                if save_dir != '':\n",
        "                    print('Saving checkpoint...')\n",
        "                    checkpoint = {'epoch': epoch, 'model_state_dict': model.state_dict(), 'optimizer_state_dict': optimizer.state_dict(), 'scheduler_state_dict': scheduler.state_dict(), 'best_valid_mae': best_valid, 'num_params': num_params}\n",
        "                    torch.save(checkpoint, os.path.join(save_dir, 'valid_checkpoint.pt'))\n",
        "\n",
        "            scheduler.step()\n",
        "\n",
        "        print(f'Best validation MAE so far: {best_valid}')\n",
        "        print(f'Test MAE when got best validation result: {best_test}')\n",
        "\n",
        "        if log_dir != '':\n",
        "            writer.close()\n",
        "\n",
        "\n",
        "    def train(self, model, optimizer, train_loader, energy_and_force, p, loss_func, device):\n",
        "        r\"\"\"\n",
        "        The script for training.\n",
        "\n",
        "        Args:\n",
        "            model: Which 3DGN model to use. Should be one of the SchNet, DimeNetPP, and SphereNet.\n",
        "            optimizer (Optimizer): Pytorch optimizer for trainable parameters in training.\n",
        "            train_loader (Dataloader): Dataloader for training.\n",
        "            energy_and_force (bool, optional): If set to :obj:`True`, will predict energy and take the minus derivative of the energy with respect to the atomic positions as predicted forces. (default: :obj:`False`)\n",
        "            p (int, optinal): The forces’ weight for a joint loss of forces and conserved energy during training. (default: :obj:`100`)\n",
        "            loss_func (function): The used loss funtion for training.\n",
        "            device (torch.device): The device where the model is deployed.\n",
        "\n",
        "        :rtype: Traning loss. ( :obj:`mae`)\n",
        "\n",
        "        \"\"\"\n",
        "        model.train()\n",
        "        loss_accum = 0\n",
        "        for step, batch_data in enumerate(tqdm(train_loader)):\n",
        "            optimizer.zero_grad()\n",
        "            batch_data = batch_data.to(device)\n",
        "            out = model(batch_data)\n",
        "            if energy_and_force:\n",
        "                force = -grad(outputs=out, inputs=batch_data.pos, grad_outputs=torch.ones_like(out),create_graph=True,retain_graph=True)[0]\n",
        "                e_loss = loss_func(out, batch_data.y.unsqueeze(1))\n",
        "                f_loss = loss_func(force, batch_data.force)\n",
        "                loss = e_loss + p * f_loss\n",
        "            else:\n",
        "                loss = loss_func(out, batch_data.y.unsqueeze(1))\n",
        "            loss.backward()\n",
        "            optimizer.step()\n",
        "            loss_accum += loss.detach().cpu().item()\n",
        "        return loss_accum / (step + 1)\n",
        "\n",
        "\n",
        "    def val(self, model, data_loader, energy_and_force, p, evaluation, device):\n",
        "        r\"\"\"\n",
        "        The script for validation/test.\n",
        "\n",
        "        Args:\n",
        "            model: Which 3DGN model to use. Should be one of the SchNet, DimeNetPP, and SphereNet.\n",
        "            data_loader (Dataloader): Dataloader for validation or test.\n",
        "            energy_and_force (bool, optional): If set to :obj:`True`, will predict energy and take the minus derivative of the energy with respect to the atomic positions as predicted forces. (default: :obj:`False`)\n",
        "            p (int, optinal): The forces’ weight for a joint loss of forces and conserved energy. (default: :obj:`100`)\n",
        "            evaluation (function): The used funtion for evaluation.\n",
        "            device (torch.device, optional): The device where the model is deployed.\n",
        "\n",
        "        :rtype: Evaluation result. ( :obj:`mae`)\n",
        "\n",
        "        \"\"\"\n",
        "        model.eval()\n",
        "\n",
        "        preds = torch.Tensor([]).to(device)\n",
        "        targets = torch.Tensor([]).to(device)\n",
        "\n",
        "        if energy_and_force:\n",
        "            preds_force = torch.Tensor([]).to(device)\n",
        "            targets_force = torch.Tensor([]).to(device)\n",
        "\n",
        "        for step, batch_data in enumerate(tqdm(data_loader)):\n",
        "            batch_data = batch_data.to(device)\n",
        "            out = model(batch_data)\n",
        "            if energy_and_force:\n",
        "                force = -grad(outputs=out, inputs=batch_data.pos, grad_outputs=torch.ones_like(out),create_graph=True,retain_graph=True)[0]\n",
        "                preds_force = torch.cat([preds_force,force.detach_()], dim=0)\n",
        "                targets_force = torch.cat([targets_force,batch_data.force], dim=0)\n",
        "            preds = torch.cat([preds, out.detach_()], dim=0)\n",
        "            targets = torch.cat([targets, batch_data.y.unsqueeze(1)], dim=0)\n",
        "\n",
        "        input_dict = {\"y_true\": targets, \"y_pred\": preds}\n",
        "\n",
        "        if energy_and_force:\n",
        "            input_dict_force = {\"y_true\": targets_force, \"y_pred\": preds_force}\n",
        "            energy_mae = evaluation.eval(input_dict)['mae']\n",
        "            force_mae = evaluation.eval(input_dict_force)['mae']\n",
        "            print({'Energy MAE': energy_mae, 'Force MAE': force_mae})\n",
        "            return energy_mae + p * force_mae\n",
        "\n",
        "        return evaluation.eval(input_dict)['mae']"
      ]
    },
    {
      "cell_type": "code",
      "source": [
        "# Train and evaluate\n",
        "run3d = run()\n",
        "run3d.run(device,\n",
        "          train_dataset=train_dataset,\n",
        "          valid_dataset=valid_dataset,\n",
        "          test_dataset=test_dataset,\n",
        "          model=model,\n",
        "          loss_func=loss_func, evaluation=evaluation,\n",
        "          epochs=100, batch_size=32, vt_batch_size=32, lr=0.0005, lr_decay_factor=0.5, lr_decay_step_size=15)"
      ],
      "metadata": {
        "colab": {
          "base_uri": "https://localhost:8080/"
        },
        "id": "Kxx1j73XhBPD",
        "outputId": "fe70bb29-a6a6-440c-8531-a9b0effc8929"
      },
      "execution_count": null,
      "outputs": [
        {
          "metadata": {
            "tags": null
          },
          "name": "stdout",
          "output_type": "stream",
          "text": [
            "#Params: 990593\n",
            "\n",
            "=====Epoch 1\n",
            "\n",
            "Training...\n"
          ]
        },
        {
          "metadata": {
            "tags": null
          },
          "name": "stderr",
          "output_type": "stream",
          "text": [
            "  0%|          | 0/2678 [00:00<?, ?it/s]/usr/local/lib/python3.10/dist-packages/dig/threedgraph/method/comenet/comenet.py:366: UserWarning: Using torch.cross without specifying the dim arg is deprecated.\n",
            "Please either pass the dim explicitly or simply use torch.linalg.cross.\n",
            "The default value of dim will change to agree with that of linalg.cross in a future release. (Triggered internally at ../aten/src/ATen/native/Cross.cpp:63.)\n",
            "  b = torch.cross(-pos_ji, pos_in0).norm(dim=-1)\n",
            "100%|██████████| 2678/2678 [11:00<00:00,  4.06it/s]"
          ]
        },
        {
          "metadata": {
            "tags": null
          },
          "name": "stdout",
          "output_type": "stream",
          "text": [
            "\n",
            "\n",
            "Evaluating...\n"
          ]
        },
        {
          "metadata": {
            "tags": null
          },
          "name": "stderr",
          "output_type": "stream",
          "text": [
            "\n",
            "100%|██████████| 765/765 [01:13<00:00, 10.44it/s]"
          ]
        },
        {
          "metadata": {
            "tags": null
          },
          "name": "stdout",
          "output_type": "stream",
          "text": [
            "\n",
            "\n",
            "Testing...\n"
          ]
        },
        {
          "metadata": {
            "tags": null
          },
          "name": "stderr",
          "output_type": "stream",
          "text": [
            "\n",
            "100%|██████████| 383/383 [00:35<00:00, 10.87it/s]"
          ]
        },
        {
          "metadata": {
            "tags": null
          },
          "name": "stdout",
          "output_type": "stream",
          "text": [
            "\n",
            "train_mae_arr [4.055204213778415] val_mae_arr [5.495244026184082] test_mae_arr [5.476871490478516]\n",
            "{'Train': 4.055204213778415, 'Validation': 5.495244026184082, 'Test': 5.476871490478516}\n",
            "\n",
            "=====Epoch 2\n",
            "\n",
            "Training...\n"
          ]
        },
        {
          "metadata": {
            "tags": null
          },
          "name": "stderr",
          "output_type": "stream",
          "text": [
            "\n",
            "100%|██████████| 2678/2678 [10:30<00:00,  4.25it/s]"
          ]
        },
        {
          "metadata": {
            "tags": null
          },
          "name": "stdout",
          "output_type": "stream",
          "text": [
            "\n",
            "\n",
            "Evaluating...\n"
          ]
        },
        {
          "metadata": {
            "tags": null
          },
          "name": "stderr",
          "output_type": "stream",
          "text": [
            "\n",
            "100%|██████████| 765/765 [01:12<00:00, 10.61it/s]"
          ]
        },
        {
          "metadata": {
            "tags": null
          },
          "name": "stdout",
          "output_type": "stream",
          "text": [
            "\n",
            "\n",
            "Testing...\n"
          ]
        },
        {
          "metadata": {
            "tags": null
          },
          "name": "stderr",
          "output_type": "stream",
          "text": [
            "\n",
            "100%|██████████| 383/383 [00:35<00:00, 10.94it/s]"
          ]
        },
        {
          "metadata": {
            "tags": null
          },
          "name": "stdout",
          "output_type": "stream",
          "text": [
            "\n",
            "train_mae_arr [4.055204213778415, 1.8628292446976904] val_mae_arr [5.495244026184082, 3.167360782623291] test_mae_arr [5.476871490478516, 3.1496078968048096]\n",
            "{'Train': 1.8628292446976904, 'Validation': 3.167360782623291, 'Test': 3.1496078968048096}\n",
            "\n",
            "=====Epoch 3\n",
            "\n",
            "Training...\n"
          ]
        },
        {
          "metadata": {
            "tags": null
          },
          "name": "stderr",
          "output_type": "stream",
          "text": [
            "\n",
            "100%|██████████| 2678/2678 [10:37<00:00,  4.20it/s]"
          ]
        },
        {
          "metadata": {
            "tags": null
          },
          "name": "stdout",
          "output_type": "stream",
          "text": [
            "\n",
            "\n",
            "Evaluating...\n"
          ]
        },
        {
          "metadata": {
            "tags": null
          },
          "name": "stderr",
          "output_type": "stream",
          "text": [
            "\n",
            "100%|██████████| 765/765 [01:12<00:00, 10.56it/s]"
          ]
        },
        {
          "metadata": {
            "tags": null
          },
          "name": "stdout",
          "output_type": "stream",
          "text": [
            "\n",
            "\n",
            "Testing...\n"
          ]
        },
        {
          "metadata": {
            "tags": null
          },
          "name": "stderr",
          "output_type": "stream",
          "text": [
            "\n",
            "100%|██████████| 383/383 [00:35<00:00, 10.80it/s]"
          ]
        },
        {
          "metadata": {
            "tags": null
          },
          "name": "stdout",
          "output_type": "stream",
          "text": [
            "\n",
            "train_mae_arr [4.055204213778415, 1.8628292446976904, 1.6316772502602883] val_mae_arr [5.495244026184082, 3.167360782623291, 2.6051743030548096] test_mae_arr [5.476871490478516, 3.1496078968048096, 2.60244083404541]\n",
            "{'Train': 1.6316772502602883, 'Validation': 2.6051743030548096, 'Test': 2.60244083404541}\n",
            "\n",
            "=====Epoch 4\n",
            "\n",
            "Training...\n"
          ]
        },
        {
          "metadata": {
            "tags": null
          },
          "name": "stderr",
          "output_type": "stream",
          "text": [
            "\n",
            "100%|██████████| 2678/2678 [11:25<00:00,  3.90it/s]"
          ]
        },
        {
          "metadata": {
            "tags": null
          },
          "name": "stdout",
          "output_type": "stream",
          "text": [
            "\n",
            "\n",
            "Evaluating...\n"
          ]
        },
        {
          "metadata": {
            "tags": null
          },
          "name": "stderr",
          "output_type": "stream",
          "text": [
            "\n",
            "100%|██████████| 765/765 [01:12<00:00, 10.52it/s]"
          ]
        },
        {
          "metadata": {
            "tags": null
          },
          "name": "stdout",
          "output_type": "stream",
          "text": [
            "\n",
            "\n",
            "Testing...\n"
          ]
        },
        {
          "metadata": {
            "tags": null
          },
          "name": "stderr",
          "output_type": "stream",
          "text": [
            "\n",
            "100%|██████████| 383/383 [00:37<00:00, 10.13it/s]"
          ]
        },
        {
          "metadata": {
            "tags": null
          },
          "name": "stdout",
          "output_type": "stream",
          "text": [
            "\n",
            "train_mae_arr [4.055204213778415, 1.8628292446976904, 1.6316772502602883, 1.395118924999878] val_mae_arr [5.495244026184082, 3.167360782623291, 2.6051743030548096, 0.5303632616996765] test_mae_arr [5.476871490478516, 3.1496078968048096, 2.60244083404541, 0.5198466777801514]\n",
            "{'Train': 1.395118924999878, 'Validation': 0.5303632616996765, 'Test': 0.5198466777801514}\n",
            "\n",
            "=====Epoch 5\n",
            "\n",
            "Training...\n"
          ]
        },
        {
          "metadata": {
            "tags": null
          },
          "name": "stderr",
          "output_type": "stream",
          "text": [
            "\n",
            "100%|██████████| 2678/2678 [12:29<00:00,  3.57it/s]"
          ]
        },
        {
          "metadata": {
            "tags": null
          },
          "name": "stdout",
          "output_type": "stream",
          "text": [
            "\n",
            "\n",
            "Evaluating...\n"
          ]
        },
        {
          "metadata": {
            "tags": null
          },
          "name": "stderr",
          "output_type": "stream",
          "text": [
            "\n",
            "100%|██████████| 765/765 [01:14<00:00, 10.29it/s]"
          ]
        },
        {
          "metadata": {
            "tags": null
          },
          "name": "stdout",
          "output_type": "stream",
          "text": [
            "\n",
            "\n",
            "Testing...\n"
          ]
        },
        {
          "metadata": {
            "tags": null
          },
          "name": "stderr",
          "output_type": "stream",
          "text": [
            "\n",
            "100%|██████████| 383/383 [00:37<00:00, 10.34it/s]"
          ]
        },
        {
          "metadata": {
            "tags": null
          },
          "name": "stdout",
          "output_type": "stream",
          "text": [
            "\n",
            "train_mae_arr [4.055204213778415, 1.8628292446976904, 1.6316772502602883, 1.395118924999878, 1.227341976603792] val_mae_arr [5.495244026184082, 3.167360782623291, 2.6051743030548096, 0.5303632616996765, 0.2743622064590454] test_mae_arr [5.476871490478516, 3.1496078968048096, 2.60244083404541, 0.5198466777801514, 0.27520376443862915]\n",
            "{'Train': 1.227341976603792, 'Validation': 0.2743622064590454, 'Test': 0.27520376443862915}\n",
            "\n",
            "=====Epoch 6\n",
            "\n",
            "Training...\n"
          ]
        },
        {
          "metadata": {
            "tags": null
          },
          "name": "stderr",
          "output_type": "stream",
          "text": [
            "\n",
            "100%|██████████| 2678/2678 [12:32<00:00,  3.56it/s]"
          ]
        },
        {
          "metadata": {
            "tags": null
          },
          "name": "stdout",
          "output_type": "stream",
          "text": [
            "\n",
            "\n",
            "Evaluating...\n"
          ]
        },
        {
          "metadata": {
            "tags": null
          },
          "name": "stderr",
          "output_type": "stream",
          "text": [
            "\n",
            "100%|██████████| 765/765 [01:12<00:00, 10.49it/s]"
          ]
        },
        {
          "metadata": {
            "tags": null
          },
          "name": "stdout",
          "output_type": "stream",
          "text": [
            "\n",
            "\n",
            "Testing...\n"
          ]
        },
        {
          "metadata": {
            "tags": null
          },
          "name": "stderr",
          "output_type": "stream",
          "text": [
            "\n",
            "100%|██████████| 383/383 [00:38<00:00,  9.90it/s]"
          ]
        },
        {
          "metadata": {
            "tags": null
          },
          "name": "stdout",
          "output_type": "stream",
          "text": [
            "\n",
            "train_mae_arr [4.055204213778415, 1.8628292446976904, 1.6316772502602883, 1.395118924999878, 1.227341976603792, 1.1519817577715326] val_mae_arr [5.495244026184082, 3.167360782623291, 2.6051743030548096, 0.5303632616996765, 0.2743622064590454, 2.0302789211273193] test_mae_arr [5.476871490478516, 3.1496078968048096, 2.60244083404541, 0.5198466777801514, 0.27520376443862915, 2.0299036502838135]\n",
            "{'Train': 1.1519817577715326, 'Validation': 2.0302789211273193, 'Test': 2.0299036502838135}\n",
            "\n",
            "=====Epoch 7\n",
            "\n",
            "Training...\n"
          ]
        },
        {
          "metadata": {
            "tags": null
          },
          "name": "stderr",
          "output_type": "stream",
          "text": [
            "\n",
            "100%|██████████| 2678/2678 [12:26<00:00,  3.59it/s]"
          ]
        },
        {
          "metadata": {
            "tags": null
          },
          "name": "stdout",
          "output_type": "stream",
          "text": [
            "\n",
            "\n",
            "Evaluating...\n"
          ]
        },
        {
          "metadata": {
            "tags": null
          },
          "name": "stderr",
          "output_type": "stream",
          "text": [
            "\n",
            "100%|██████████| 765/765 [01:16<00:00, 10.02it/s]"
          ]
        },
        {
          "metadata": {
            "tags": null
          },
          "name": "stdout",
          "output_type": "stream",
          "text": [
            "\n",
            "\n",
            "Testing...\n"
          ]
        },
        {
          "metadata": {
            "tags": null
          },
          "name": "stderr",
          "output_type": "stream",
          "text": [
            "\n",
            "100%|██████████| 383/383 [00:36<00:00, 10.62it/s]"
          ]
        },
        {
          "metadata": {
            "tags": null
          },
          "name": "stdout",
          "output_type": "stream",
          "text": [
            "\n",
            "train_mae_arr [4.055204213778415, 1.8628292446976904, 1.6316772502602883, 1.395118924999878, 1.227341976603792, 1.1519817577715326, 1.0612156420523235] val_mae_arr [5.495244026184082, 3.167360782623291, 2.6051743030548096, 0.5303632616996765, 0.2743622064590454, 2.0302789211273193, 3.1393628120422363] test_mae_arr [5.476871490478516, 3.1496078968048096, 2.60244083404541, 0.5198466777801514, 0.27520376443862915, 2.0299036502838135, 3.1302621364593506]\n",
            "{'Train': 1.0612156420523235, 'Validation': 3.1393628120422363, 'Test': 3.1302621364593506}\n",
            "\n",
            "=====Epoch 8\n",
            "\n",
            "Training...\n"
          ]
        },
        {
          "metadata": {
            "tags": null
          },
          "name": "stderr",
          "output_type": "stream",
          "text": [
            "\n",
            "100%|██████████| 2678/2678 [12:37<00:00,  3.54it/s]"
          ]
        },
        {
          "metadata": {
            "tags": null
          },
          "name": "stdout",
          "output_type": "stream",
          "text": [
            "\n",
            "\n",
            "Evaluating...\n"
          ]
        },
        {
          "metadata": {
            "tags": null
          },
          "name": "stderr",
          "output_type": "stream",
          "text": [
            "\n",
            "100%|██████████| 765/765 [01:14<00:00, 10.20it/s]"
          ]
        },
        {
          "metadata": {
            "tags": null
          },
          "name": "stdout",
          "output_type": "stream",
          "text": [
            "\n",
            "\n",
            "Testing...\n"
          ]
        },
        {
          "metadata": {
            "tags": null
          },
          "name": "stderr",
          "output_type": "stream",
          "text": [
            "\n",
            "100%|██████████| 383/383 [00:37<00:00, 10.29it/s]"
          ]
        },
        {
          "metadata": {
            "tags": null
          },
          "name": "stdout",
          "output_type": "stream",
          "text": [
            "\n",
            "train_mae_arr [4.055204213778415, 1.8628292446976904, 1.6316772502602883, 1.395118924999878, 1.227341976603792, 1.1519817577715326, 1.0612156420523235, 1.068930999390486] val_mae_arr [5.495244026184082, 3.167360782623291, 2.6051743030548096, 0.5303632616996765, 0.2743622064590454, 2.0302789211273193, 3.1393628120422363, 0.4822660982608795] test_mae_arr [5.476871490478516, 3.1496078968048096, 2.60244083404541, 0.5198466777801514, 0.27520376443862915, 2.0299036502838135, 3.1302621364593506, 0.4751608073711395]\n",
            "{'Train': 1.068930999390486, 'Validation': 0.4822660982608795, 'Test': 0.4751608073711395}\n",
            "\n",
            "=====Epoch 9\n",
            "\n",
            "Training...\n"
          ]
        },
        {
          "metadata": {
            "tags": null
          },
          "name": "stderr",
          "output_type": "stream",
          "text": [
            "\n",
            "100%|██████████| 2678/2678 [12:29<00:00,  3.57it/s]"
          ]
        },
        {
          "metadata": {
            "tags": null
          },
          "name": "stdout",
          "output_type": "stream",
          "text": [
            "\n",
            "\n",
            "Evaluating...\n"
          ]
        },
        {
          "metadata": {
            "tags": null
          },
          "name": "stderr",
          "output_type": "stream",
          "text": [
            "\n",
            "100%|██████████| 765/765 [01:15<00:00, 10.20it/s]"
          ]
        },
        {
          "metadata": {
            "tags": null
          },
          "name": "stdout",
          "output_type": "stream",
          "text": [
            "\n",
            "\n",
            "Testing...\n"
          ]
        },
        {
          "metadata": {
            "tags": null
          },
          "name": "stderr",
          "output_type": "stream",
          "text": [
            "\n",
            "100%|██████████| 383/383 [00:36<00:00, 10.41it/s]"
          ]
        },
        {
          "metadata": {
            "tags": null
          },
          "name": "stdout",
          "output_type": "stream",
          "text": [
            "\n",
            "train_mae_arr [4.055204213778415, 1.8628292446976904, 1.6316772502602883, 1.395118924999878, 1.227341976603792, 1.1519817577715326, 1.0612156420523235, 1.068930999390486, 1.0061492864724146] val_mae_arr [5.495244026184082, 3.167360782623291, 2.6051743030548096, 0.5303632616996765, 0.2743622064590454, 2.0302789211273193, 3.1393628120422363, 0.4822660982608795, 1.7356529235839844] test_mae_arr [5.476871490478516, 3.1496078968048096, 2.60244083404541, 0.5198466777801514, 0.27520376443862915, 2.0299036502838135, 3.1302621364593506, 0.4751608073711395, 1.7399317026138306]\n",
            "{'Train': 1.0061492864724146, 'Validation': 1.7356529235839844, 'Test': 1.7399317026138306}\n",
            "\n",
            "=====Epoch 10\n",
            "\n",
            "Training...\n"
          ]
        },
        {
          "metadata": {
            "tags": null
          },
          "name": "stderr",
          "output_type": "stream",
          "text": [
            "\n",
            "100%|██████████| 2678/2678 [12:28<00:00,  3.58it/s]"
          ]
        },
        {
          "metadata": {
            "tags": null
          },
          "name": "stdout",
          "output_type": "stream",
          "text": [
            "\n",
            "\n",
            "Evaluating...\n"
          ]
        },
        {
          "metadata": {
            "tags": null
          },
          "name": "stderr",
          "output_type": "stream",
          "text": [
            "\n",
            "100%|██████████| 765/765 [01:14<00:00, 10.33it/s]"
          ]
        },
        {
          "metadata": {
            "tags": null
          },
          "name": "stdout",
          "output_type": "stream",
          "text": [
            "\n",
            "\n",
            "Testing...\n"
          ]
        },
        {
          "metadata": {
            "tags": null
          },
          "name": "stderr",
          "output_type": "stream",
          "text": [
            "\n",
            "100%|██████████| 383/383 [00:39<00:00,  9.79it/s]"
          ]
        },
        {
          "metadata": {
            "tags": null
          },
          "name": "stdout",
          "output_type": "stream",
          "text": [
            "\n",
            "train_mae_arr [4.055204213778415, 1.8628292446976904, 1.6316772502602883, 1.395118924999878, 1.227341976603792, 1.1519817577715326, 1.0612156420523235, 1.068930999390486, 1.0061492864724146, 0.90764278373761] val_mae_arr [5.495244026184082, 3.167360782623291, 2.6051743030548096, 0.5303632616996765, 0.2743622064590454, 2.0302789211273193, 3.1393628120422363, 0.4822660982608795, 1.7356529235839844, 1.6325246095657349] test_mae_arr [5.476871490478516, 3.1496078968048096, 2.60244083404541, 0.5198466777801514, 0.27520376443862915, 2.0299036502838135, 3.1302621364593506, 0.4751608073711395, 1.7399317026138306, 1.6423500776290894]\n",
            "{'Train': 0.90764278373761, 'Validation': 1.6325246095657349, 'Test': 1.6423500776290894}\n",
            "\n",
            "=====Epoch 11\n",
            "\n",
            "Training...\n"
          ]
        },
        {
          "metadata": {
            "tags": null
          },
          "name": "stderr",
          "output_type": "stream",
          "text": [
            "\n",
            "100%|██████████| 2678/2678 [12:41<00:00,  3.52it/s]"
          ]
        },
        {
          "metadata": {
            "tags": null
          },
          "name": "stdout",
          "output_type": "stream",
          "text": [
            "\n",
            "\n",
            "Evaluating...\n"
          ]
        },
        {
          "metadata": {
            "tags": null
          },
          "name": "stderr",
          "output_type": "stream",
          "text": [
            "\n",
            "100%|██████████| 765/765 [01:14<00:00, 10.32it/s]"
          ]
        },
        {
          "metadata": {
            "tags": null
          },
          "name": "stdout",
          "output_type": "stream",
          "text": [
            "\n",
            "\n",
            "Testing...\n"
          ]
        },
        {
          "metadata": {
            "tags": null
          },
          "name": "stderr",
          "output_type": "stream",
          "text": [
            "\n",
            "100%|██████████| 383/383 [00:38<00:00,  9.97it/s]"
          ]
        },
        {
          "metadata": {
            "tags": null
          },
          "name": "stdout",
          "output_type": "stream",
          "text": [
            "\n",
            "train_mae_arr [4.055204213778415, 1.8628292446976904, 1.6316772502602883, 1.395118924999878, 1.227341976603792, 1.1519817577715326, 1.0612156420523235, 1.068930999390486, 1.0061492864724146, 0.90764278373761, 0.7819268785367002] val_mae_arr [5.495244026184082, 3.167360782623291, 2.6051743030548096, 0.5303632616996765, 0.2743622064590454, 2.0302789211273193, 3.1393628120422363, 0.4822660982608795, 1.7356529235839844, 1.6325246095657349, 1.2782948017120361] test_mae_arr [5.476871490478516, 3.1496078968048096, 2.60244083404541, 0.5198466777801514, 0.27520376443862915, 2.0299036502838135, 3.1302621364593506, 0.4751608073711395, 1.7399317026138306, 1.6423500776290894, 1.2738837003707886]\n",
            "{'Train': 0.7819268785367002, 'Validation': 1.2782948017120361, 'Test': 1.2738837003707886}\n",
            "\n",
            "=====Epoch 12\n",
            "\n",
            "Training...\n"
          ]
        },
        {
          "metadata": {
            "tags": null
          },
          "name": "stderr",
          "output_type": "stream",
          "text": [
            "\n",
            "100%|██████████| 2678/2678 [12:48<00:00,  3.49it/s]"
          ]
        },
        {
          "metadata": {
            "tags": null
          },
          "name": "stdout",
          "output_type": "stream",
          "text": [
            "\n",
            "\n",
            "Evaluating...\n"
          ]
        },
        {
          "metadata": {
            "tags": null
          },
          "name": "stderr",
          "output_type": "stream",
          "text": [
            "\n",
            "100%|██████████| 765/765 [01:16<00:00,  9.99it/s]"
          ]
        },
        {
          "metadata": {
            "tags": null
          },
          "name": "stdout",
          "output_type": "stream",
          "text": [
            "\n",
            "\n",
            "Testing...\n"
          ]
        },
        {
          "metadata": {
            "tags": null
          },
          "name": "stderr",
          "output_type": "stream",
          "text": [
            "\n",
            "100%|██████████| 383/383 [00:37<00:00, 10.19it/s]"
          ]
        },
        {
          "metadata": {
            "tags": null
          },
          "name": "stdout",
          "output_type": "stream",
          "text": [
            "\n",
            "train_mae_arr [4.055204213778415, 1.8628292446976904, 1.6316772502602883, 1.395118924999878, 1.227341976603792, 1.1519817577715326, 1.0612156420523235, 1.068930999390486, 1.0061492864724146, 0.90764278373761, 0.7819268785367002, 0.778746536367415] val_mae_arr [5.495244026184082, 3.167360782623291, 2.6051743030548096, 0.5303632616996765, 0.2743622064590454, 2.0302789211273193, 3.1393628120422363, 0.4822660982608795, 1.7356529235839844, 1.6325246095657349, 1.2782948017120361, 0.8795942664146423] test_mae_arr [5.476871490478516, 3.1496078968048096, 2.60244083404541, 0.5198466777801514, 0.27520376443862915, 2.0299036502838135, 3.1302621364593506, 0.4751608073711395, 1.7399317026138306, 1.6423500776290894, 1.2738837003707886, 0.8761584162712097]\n",
            "{'Train': 0.778746536367415, 'Validation': 0.8795942664146423, 'Test': 0.8761584162712097}\n",
            "\n",
            "=====Epoch 13\n",
            "\n",
            "Training...\n"
          ]
        },
        {
          "metadata": {
            "tags": null
          },
          "name": "stderr",
          "output_type": "stream",
          "text": [
            "\n",
            "100%|██████████| 2678/2678 [13:03<00:00,  3.42it/s]"
          ]
        },
        {
          "metadata": {
            "tags": null
          },
          "name": "stdout",
          "output_type": "stream",
          "text": [
            "\n",
            "\n",
            "Evaluating...\n"
          ]
        },
        {
          "metadata": {
            "tags": null
          },
          "name": "stderr",
          "output_type": "stream",
          "text": [
            "\n",
            "100%|██████████| 765/765 [01:14<00:00, 10.24it/s]"
          ]
        },
        {
          "metadata": {
            "tags": null
          },
          "name": "stdout",
          "output_type": "stream",
          "text": [
            "\n",
            "\n",
            "Testing...\n"
          ]
        },
        {
          "metadata": {
            "tags": null
          },
          "name": "stderr",
          "output_type": "stream",
          "text": [
            "\n",
            "100%|██████████| 383/383 [00:37<00:00, 10.17it/s]"
          ]
        },
        {
          "metadata": {
            "tags": null
          },
          "name": "stdout",
          "output_type": "stream",
          "text": [
            "\n",
            "train_mae_arr [4.055204213778415, 1.8628292446976904, 1.6316772502602883, 1.395118924999878, 1.227341976603792, 1.1519817577715326, 1.0612156420523235, 1.068930999390486, 1.0061492864724146, 0.90764278373761, 0.7819268785367002, 0.778746536367415, 0.802631254246023] val_mae_arr [5.495244026184082, 3.167360782623291, 2.6051743030548096, 0.5303632616996765, 0.2743622064590454, 2.0302789211273193, 3.1393628120422363, 0.4822660982608795, 1.7356529235839844, 1.6325246095657349, 1.2782948017120361, 0.8795942664146423, 0.8600063323974609] test_mae_arr [5.476871490478516, 3.1496078968048096, 2.60244083404541, 0.5198466777801514, 0.27520376443862915, 2.0299036502838135, 3.1302621364593506, 0.4751608073711395, 1.7399317026138306, 1.6423500776290894, 1.2738837003707886, 0.8761584162712097, 0.8559277653694153]\n",
            "{'Train': 0.802631254246023, 'Validation': 0.8600063323974609, 'Test': 0.8559277653694153}\n",
            "\n",
            "=====Epoch 14\n",
            "\n",
            "Training...\n"
          ]
        },
        {
          "metadata": {
            "tags": null
          },
          "name": "stderr",
          "output_type": "stream",
          "text": [
            "\n",
            "100%|██████████| 2678/2678 [13:02<00:00,  3.42it/s]"
          ]
        },
        {
          "metadata": {
            "tags": null
          },
          "name": "stdout",
          "output_type": "stream",
          "text": [
            "\n",
            "\n",
            "Evaluating...\n"
          ]
        },
        {
          "metadata": {
            "tags": null
          },
          "name": "stderr",
          "output_type": "stream",
          "text": [
            "\n",
            "100%|██████████| 765/765 [01:14<00:00, 10.28it/s]"
          ]
        },
        {
          "metadata": {
            "tags": null
          },
          "name": "stdout",
          "output_type": "stream",
          "text": [
            "\n",
            "\n",
            "Testing...\n"
          ]
        },
        {
          "metadata": {
            "tags": null
          },
          "name": "stderr",
          "output_type": "stream",
          "text": [
            "\n",
            "100%|██████████| 383/383 [00:37<00:00, 10.17it/s]"
          ]
        },
        {
          "metadata": {
            "tags": null
          },
          "name": "stdout",
          "output_type": "stream",
          "text": [
            "\n",
            "train_mae_arr [4.055204213778415, 1.8628292446976904, 1.6316772502602883, 1.395118924999878, 1.227341976603792, 1.1519817577715326, 1.0612156420523235, 1.068930999390486, 1.0061492864724146, 0.90764278373761, 0.7819268785367002, 0.778746536367415, 0.802631254246023, 0.7386391211838043] val_mae_arr [5.495244026184082, 3.167360782623291, 2.6051743030548096, 0.5303632616996765, 0.2743622064590454, 2.0302789211273193, 3.1393628120422363, 0.4822660982608795, 1.7356529235839844, 1.6325246095657349, 1.2782948017120361, 0.8795942664146423, 0.8600063323974609, 0.386810839176178] test_mae_arr [5.476871490478516, 3.1496078968048096, 2.60244083404541, 0.5198466777801514, 0.27520376443862915, 2.0299036502838135, 3.1302621364593506, 0.4751608073711395, 1.7399317026138306, 1.6423500776290894, 1.2738837003707886, 0.8761584162712097, 0.8559277653694153, 0.38346439599990845]\n",
            "{'Train': 0.7386391211838043, 'Validation': 0.386810839176178, 'Test': 0.38346439599990845}\n",
            "\n",
            "=====Epoch 15\n",
            "\n",
            "Training...\n"
          ]
        },
        {
          "metadata": {
            "tags": null
          },
          "name": "stderr",
          "output_type": "stream",
          "text": [
            "\n",
            "100%|██████████| 2678/2678 [13:06<00:00,  3.40it/s]"
          ]
        },
        {
          "metadata": {
            "tags": null
          },
          "name": "stdout",
          "output_type": "stream",
          "text": [
            "\n",
            "\n",
            "Evaluating...\n"
          ]
        },
        {
          "metadata": {
            "tags": null
          },
          "name": "stderr",
          "output_type": "stream",
          "text": [
            "\n",
            "100%|██████████| 765/765 [01:14<00:00, 10.27it/s]"
          ]
        },
        {
          "metadata": {
            "tags": null
          },
          "name": "stdout",
          "output_type": "stream",
          "text": [
            "\n",
            "\n",
            "Testing...\n"
          ]
        },
        {
          "metadata": {
            "tags": null
          },
          "name": "stderr",
          "output_type": "stream",
          "text": [
            "\n",
            "100%|██████████| 383/383 [00:37<00:00, 10.31it/s]"
          ]
        },
        {
          "metadata": {
            "tags": null
          },
          "name": "stdout",
          "output_type": "stream",
          "text": [
            "\n",
            "train_mae_arr [4.055204213778415, 1.8628292446976904, 1.6316772502602883, 1.395118924999878, 1.227341976603792, 1.1519817577715326, 1.0612156420523235, 1.068930999390486, 1.0061492864724146, 0.90764278373761, 0.7819268785367002, 0.778746536367415, 0.802631254246023, 0.7386391211838043, 0.6157286095921899] val_mae_arr [5.495244026184082, 3.167360782623291, 2.6051743030548096, 0.5303632616996765, 0.2743622064590454, 2.0302789211273193, 3.1393628120422363, 0.4822660982608795, 1.7356529235839844, 1.6325246095657349, 1.2782948017120361, 0.8795942664146423, 0.8600063323974609, 0.386810839176178, 1.3333159685134888] test_mae_arr [5.476871490478516, 3.1496078968048096, 2.60244083404541, 0.5198466777801514, 0.27520376443862915, 2.0299036502838135, 3.1302621364593506, 0.4751608073711395, 1.7399317026138306, 1.6423500776290894, 1.2738837003707886, 0.8761584162712097, 0.8559277653694153, 0.38346439599990845, 1.3299694061279297]\n",
            "{'Train': 0.6157286095921899, 'Validation': 1.3333159685134888, 'Test': 1.3299694061279297}\n",
            "\n",
            "=====Epoch 16\n",
            "\n",
            "Training...\n"
          ]
        },
        {
          "metadata": {
            "tags": null
          },
          "name": "stderr",
          "output_type": "stream",
          "text": [
            "\n",
            "100%|██████████| 2678/2678 [13:02<00:00,  3.42it/s]"
          ]
        },
        {
          "metadata": {
            "tags": null
          },
          "name": "stdout",
          "output_type": "stream",
          "text": [
            "\n",
            "\n",
            "Evaluating...\n"
          ]
        },
        {
          "metadata": {
            "tags": null
          },
          "name": "stderr",
          "output_type": "stream",
          "text": [
            "\n",
            "100%|██████████| 765/765 [01:14<00:00, 10.27it/s]"
          ]
        },
        {
          "metadata": {
            "tags": null
          },
          "name": "stdout",
          "output_type": "stream",
          "text": [
            "\n",
            "\n",
            "Testing...\n"
          ]
        },
        {
          "metadata": {
            "tags": null
          },
          "name": "stderr",
          "output_type": "stream",
          "text": [
            "\n",
            "100%|██████████| 383/383 [00:37<00:00, 10.26it/s]"
          ]
        },
        {
          "metadata": {
            "tags": null
          },
          "name": "stdout",
          "output_type": "stream",
          "text": [
            "\n",
            "train_mae_arr [4.055204213778415, 1.8628292446976904, 1.6316772502602883, 1.395118924999878, 1.227341976603792, 1.1519817577715326, 1.0612156420523235, 1.068930999390486, 1.0061492864724146, 0.90764278373761, 0.7819268785367002, 0.778746536367415, 0.802631254246023, 0.7386391211838043, 0.6157286095921899, 0.296317524211989] val_mae_arr [5.495244026184082, 3.167360782623291, 2.6051743030548096, 0.5303632616996765, 0.2743622064590454, 2.0302789211273193, 3.1393628120422363, 0.4822660982608795, 1.7356529235839844, 1.6325246095657349, 1.2782948017120361, 0.8795942664146423, 0.8600063323974609, 0.386810839176178, 1.3333159685134888, 0.1814141422510147] test_mae_arr [5.476871490478516, 3.1496078968048096, 2.60244083404541, 0.5198466777801514, 0.27520376443862915, 2.0299036502838135, 3.1302621364593506, 0.4751608073711395, 1.7399317026138306, 1.6423500776290894, 1.2738837003707886, 0.8761584162712097, 0.8559277653694153, 0.38346439599990845, 1.3299694061279297, 0.17881067097187042]\n",
            "{'Train': 0.296317524211989, 'Validation': 0.1814141422510147, 'Test': 0.17881067097187042}\n",
            "\n",
            "=====Epoch 17\n",
            "\n",
            "Training...\n"
          ]
        },
        {
          "metadata": {
            "tags": null
          },
          "name": "stderr",
          "output_type": "stream",
          "text": [
            "\n",
            "100%|██████████| 2678/2678 [13:14<00:00,  3.37it/s]"
          ]
        },
        {
          "metadata": {
            "tags": null
          },
          "name": "stdout",
          "output_type": "stream",
          "text": [
            "\n",
            "\n",
            "Evaluating...\n"
          ]
        },
        {
          "metadata": {
            "tags": null
          },
          "name": "stderr",
          "output_type": "stream",
          "text": [
            "\n",
            "100%|██████████| 765/765 [01:15<00:00, 10.10it/s]"
          ]
        },
        {
          "metadata": {
            "tags": null
          },
          "name": "stdout",
          "output_type": "stream",
          "text": [
            "\n",
            "\n",
            "Testing...\n"
          ]
        },
        {
          "metadata": {
            "tags": null
          },
          "name": "stderr",
          "output_type": "stream",
          "text": [
            "\n",
            "100%|██████████| 383/383 [00:36<00:00, 10.63it/s]"
          ]
        },
        {
          "metadata": {
            "tags": null
          },
          "name": "stdout",
          "output_type": "stream",
          "text": [
            "\n",
            "train_mae_arr [4.055204213778415, 1.8628292446976904, 1.6316772502602883, 1.395118924999878, 1.227341976603792, 1.1519817577715326, 1.0612156420523235, 1.068930999390486, 1.0061492864724146, 0.90764278373761, 0.7819268785367002, 0.778746536367415, 0.802631254246023, 0.7386391211838043, 0.6157286095921899, 0.296317524211989, 0.28439199319074543] val_mae_arr [5.495244026184082, 3.167360782623291, 2.6051743030548096, 0.5303632616996765, 0.2743622064590454, 2.0302789211273193, 3.1393628120422363, 0.4822660982608795, 1.7356529235839844, 1.6325246095657349, 1.2782948017120361, 0.8795942664146423, 0.8600063323974609, 0.386810839176178, 1.3333159685134888, 0.1814141422510147, 0.2543065547943115] test_mae_arr [5.476871490478516, 3.1496078968048096, 2.60244083404541, 0.5198466777801514, 0.27520376443862915, 2.0299036502838135, 3.1302621364593506, 0.4751608073711395, 1.7399317026138306, 1.6423500776290894, 1.2738837003707886, 0.8761584162712097, 0.8559277653694153, 0.38346439599990845, 1.3299694061279297, 0.17881067097187042, 0.25391098856925964]\n",
            "{'Train': 0.28439199319074543, 'Validation': 0.2543065547943115, 'Test': 0.25391098856925964}\n",
            "\n",
            "=====Epoch 18\n",
            "\n",
            "Training...\n"
          ]
        },
        {
          "metadata": {
            "tags": null
          },
          "name": "stderr",
          "output_type": "stream",
          "text": [
            "\n",
            "100%|██████████| 2678/2678 [13:02<00:00,  3.42it/s]"
          ]
        },
        {
          "metadata": {
            "tags": null
          },
          "name": "stdout",
          "output_type": "stream",
          "text": [
            "\n",
            "\n",
            "Evaluating...\n"
          ]
        },
        {
          "metadata": {
            "tags": null
          },
          "name": "stderr",
          "output_type": "stream",
          "text": [
            "\n",
            "100%|██████████| 765/765 [01:13<00:00, 10.36it/s]"
          ]
        },
        {
          "metadata": {
            "tags": null
          },
          "name": "stdout",
          "output_type": "stream",
          "text": [
            "\n",
            "\n",
            "Testing...\n"
          ]
        },
        {
          "metadata": {
            "tags": null
          },
          "name": "stderr",
          "output_type": "stream",
          "text": [
            "\n",
            "100%|██████████| 383/383 [00:37<00:00, 10.31it/s]"
          ]
        },
        {
          "metadata": {
            "tags": null
          },
          "name": "stdout",
          "output_type": "stream",
          "text": [
            "\n",
            "train_mae_arr [4.055204213778415, 1.8628292446976904, 1.6316772502602883, 1.395118924999878, 1.227341976603792, 1.1519817577715326, 1.0612156420523235, 1.068930999390486, 1.0061492864724146, 0.90764278373761, 0.7819268785367002, 0.778746536367415, 0.802631254246023, 0.7386391211838043, 0.6157286095921899, 0.296317524211989, 0.28439199319074543, 0.3222034221446897] val_mae_arr [5.495244026184082, 3.167360782623291, 2.6051743030548096, 0.5303632616996765, 0.2743622064590454, 2.0302789211273193, 3.1393628120422363, 0.4822660982608795, 1.7356529235839844, 1.6325246095657349, 1.2782948017120361, 0.8795942664146423, 0.8600063323974609, 0.386810839176178, 1.3333159685134888, 0.1814141422510147, 0.2543065547943115, 0.21857191622257233] test_mae_arr [5.476871490478516, 3.1496078968048096, 2.60244083404541, 0.5198466777801514, 0.27520376443862915, 2.0299036502838135, 3.1302621364593506, 0.4751608073711395, 1.7399317026138306, 1.6423500776290894, 1.2738837003707886, 0.8761584162712097, 0.8559277653694153, 0.38346439599990845, 1.3299694061279297, 0.17881067097187042, 0.25391098856925964, 0.21783292293548584]\n",
            "{'Train': 0.3222034221446897, 'Validation': 0.21857191622257233, 'Test': 0.21783292293548584}\n",
            "\n",
            "=====Epoch 19\n",
            "\n",
            "Training...\n"
          ]
        },
        {
          "metadata": {
            "tags": null
          },
          "name": "stderr",
          "output_type": "stream",
          "text": [
            "\n",
            "100%|██████████| 2678/2678 [13:10<00:00,  3.39it/s]"
          ]
        },
        {
          "metadata": {
            "tags": null
          },
          "name": "stdout",
          "output_type": "stream",
          "text": [
            "\n",
            "\n",
            "Evaluating...\n"
          ]
        },
        {
          "metadata": {
            "tags": null
          },
          "name": "stderr",
          "output_type": "stream",
          "text": [
            "\n",
            "100%|██████████| 765/765 [01:13<00:00, 10.35it/s]"
          ]
        },
        {
          "metadata": {
            "tags": null
          },
          "name": "stdout",
          "output_type": "stream",
          "text": [
            "\n",
            "\n",
            "Testing...\n"
          ]
        },
        {
          "metadata": {
            "tags": null
          },
          "name": "stderr",
          "output_type": "stream",
          "text": [
            "\n",
            "100%|██████████| 383/383 [00:36<00:00, 10.42it/s]"
          ]
        },
        {
          "metadata": {
            "tags": null
          },
          "name": "stdout",
          "output_type": "stream",
          "text": [
            "\n",
            "train_mae_arr [4.055204213778415, 1.8628292446976904, 1.6316772502602883, 1.395118924999878, 1.227341976603792, 1.1519817577715326, 1.0612156420523235, 1.068930999390486, 1.0061492864724146, 0.90764278373761, 0.7819268785367002, 0.778746536367415, 0.802631254246023, 0.7386391211838043, 0.6157286095921899, 0.296317524211989, 0.28439199319074543, 0.3222034221446897, 0.29986566701337775] val_mae_arr [5.495244026184082, 3.167360782623291, 2.6051743030548096, 0.5303632616996765, 0.2743622064590454, 2.0302789211273193, 3.1393628120422363, 0.4822660982608795, 1.7356529235839844, 1.6325246095657349, 1.2782948017120361, 0.8795942664146423, 0.8600063323974609, 0.386810839176178, 1.3333159685134888, 0.1814141422510147, 0.2543065547943115, 0.21857191622257233, 0.6630833745002747] test_mae_arr [5.476871490478516, 3.1496078968048096, 2.60244083404541, 0.5198466777801514, 0.27520376443862915, 2.0299036502838135, 3.1302621364593506, 0.4751608073711395, 1.7399317026138306, 1.6423500776290894, 1.2738837003707886, 0.8761584162712097, 0.8559277653694153, 0.38346439599990845, 1.3299694061279297, 0.17881067097187042, 0.25391098856925964, 0.21783292293548584, 0.6615564823150635]\n",
            "{'Train': 0.29986566701337775, 'Validation': 0.6630833745002747, 'Test': 0.6615564823150635}\n",
            "\n",
            "=====Epoch 20\n",
            "\n",
            "Training...\n"
          ]
        },
        {
          "metadata": {
            "tags": null
          },
          "name": "stderr",
          "output_type": "stream",
          "text": [
            "\n",
            "100%|██████████| 2678/2678 [13:25<00:00,  3.33it/s]"
          ]
        },
        {
          "metadata": {
            "tags": null
          },
          "name": "stdout",
          "output_type": "stream",
          "text": [
            "\n",
            "\n",
            "Evaluating...\n"
          ]
        },
        {
          "metadata": {
            "tags": null
          },
          "name": "stderr",
          "output_type": "stream",
          "text": [
            "\n",
            "100%|██████████| 765/765 [01:15<00:00, 10.20it/s]"
          ]
        },
        {
          "metadata": {
            "tags": null
          },
          "name": "stdout",
          "output_type": "stream",
          "text": [
            "\n",
            "\n",
            "Testing...\n"
          ]
        },
        {
          "metadata": {
            "tags": null
          },
          "name": "stderr",
          "output_type": "stream",
          "text": [
            "\n",
            "100%|██████████| 383/383 [00:37<00:00, 10.24it/s]"
          ]
        },
        {
          "metadata": {
            "tags": null
          },
          "name": "stdout",
          "output_type": "stream",
          "text": [
            "\n",
            "train_mae_arr [4.055204213778415, 1.8628292446976904, 1.6316772502602883, 1.395118924999878, 1.227341976603792, 1.1519817577715326, 1.0612156420523235, 1.068930999390486, 1.0061492864724146, 0.90764278373761, 0.7819268785367002, 0.778746536367415, 0.802631254246023, 0.7386391211838043, 0.6157286095921899, 0.296317524211989, 0.28439199319074543, 0.3222034221446897, 0.29986566701337775, 0.3080198318767761] val_mae_arr [5.495244026184082, 3.167360782623291, 2.6051743030548096, 0.5303632616996765, 0.2743622064590454, 2.0302789211273193, 3.1393628120422363, 0.4822660982608795, 1.7356529235839844, 1.6325246095657349, 1.2782948017120361, 0.8795942664146423, 0.8600063323974609, 0.386810839176178, 1.3333159685134888, 0.1814141422510147, 0.2543065547943115, 0.21857191622257233, 0.6630833745002747, 0.07602076232433319] test_mae_arr [5.476871490478516, 3.1496078968048096, 2.60244083404541, 0.5198466777801514, 0.27520376443862915, 2.0299036502838135, 3.1302621364593506, 0.4751608073711395, 1.7399317026138306, 1.6423500776290894, 1.2738837003707886, 0.8761584162712097, 0.8559277653694153, 0.38346439599990845, 1.3299694061279297, 0.17881067097187042, 0.25391098856925964, 0.21783292293548584, 0.6615564823150635, 0.07507535815238953]\n",
            "{'Train': 0.3080198318767761, 'Validation': 0.07602076232433319, 'Test': 0.07507535815238953}\n",
            "\n",
            "=====Epoch 21\n",
            "\n",
            "Training...\n"
          ]
        },
        {
          "metadata": {
            "tags": null
          },
          "name": "stderr",
          "output_type": "stream",
          "text": [
            "\n",
            "100%|██████████| 2678/2678 [13:24<00:00,  3.33it/s]"
          ]
        },
        {
          "metadata": {
            "tags": null
          },
          "name": "stdout",
          "output_type": "stream",
          "text": [
            "\n",
            "\n",
            "Evaluating...\n"
          ]
        },
        {
          "metadata": {
            "tags": null
          },
          "name": "stderr",
          "output_type": "stream",
          "text": [
            "\n",
            "100%|██████████| 765/765 [01:13<00:00, 10.39it/s]"
          ]
        },
        {
          "metadata": {
            "tags": null
          },
          "name": "stdout",
          "output_type": "stream",
          "text": [
            "\n",
            "\n",
            "Testing...\n"
          ]
        },
        {
          "metadata": {
            "tags": null
          },
          "name": "stderr",
          "output_type": "stream",
          "text": [
            "\n",
            "100%|██████████| 383/383 [00:38<00:00,  9.92it/s]"
          ]
        },
        {
          "metadata": {
            "tags": null
          },
          "name": "stdout",
          "output_type": "stream",
          "text": [
            "\n",
            "train_mae_arr [4.055204213778415, 1.8628292446976904, 1.6316772502602883, 1.395118924999878, 1.227341976603792, 1.1519817577715326, 1.0612156420523235, 1.068930999390486, 1.0061492864724146, 0.90764278373761, 0.7819268785367002, 0.778746536367415, 0.802631254246023, 0.7386391211838043, 0.6157286095921899, 0.296317524211989, 0.28439199319074543, 0.3222034221446897, 0.29986566701337775, 0.3080198318767761, 0.2823844312108035] val_mae_arr [5.495244026184082, 3.167360782623291, 2.6051743030548096, 0.5303632616996765, 0.2743622064590454, 2.0302789211273193, 3.1393628120422363, 0.4822660982608795, 1.7356529235839844, 1.6325246095657349, 1.2782948017120361, 0.8795942664146423, 0.8600063323974609, 0.386810839176178, 1.3333159685134888, 0.1814141422510147, 0.2543065547943115, 0.21857191622257233, 0.6630833745002747, 0.07602076232433319, 0.15820099413394928] test_mae_arr [5.476871490478516, 3.1496078968048096, 2.60244083404541, 0.5198466777801514, 0.27520376443862915, 2.0299036502838135, 3.1302621364593506, 0.4751608073711395, 1.7399317026138306, 1.6423500776290894, 1.2738837003707886, 0.8761584162712097, 0.8559277653694153, 0.38346439599990845, 1.3299694061279297, 0.17881067097187042, 0.25391098856925964, 0.21783292293548584, 0.6615564823150635, 0.07507535815238953, 0.15701298415660858]\n",
            "{'Train': 0.2823844312108035, 'Validation': 0.15820099413394928, 'Test': 0.15701298415660858}\n",
            "\n",
            "=====Epoch 22\n",
            "\n",
            "Training...\n"
          ]
        },
        {
          "metadata": {
            "tags": null
          },
          "name": "stderr",
          "output_type": "stream",
          "text": [
            "\n",
            "100%|██████████| 2678/2678 [13:12<00:00,  3.38it/s]"
          ]
        },
        {
          "metadata": {
            "tags": null
          },
          "name": "stdout",
          "output_type": "stream",
          "text": [
            "\n",
            "\n",
            "Evaluating...\n"
          ]
        },
        {
          "metadata": {
            "tags": null
          },
          "name": "stderr",
          "output_type": "stream",
          "text": [
            "\n",
            "100%|██████████| 765/765 [01:13<00:00, 10.39it/s]"
          ]
        },
        {
          "metadata": {
            "tags": null
          },
          "name": "stdout",
          "output_type": "stream",
          "text": [
            "\n",
            "\n",
            "Testing...\n"
          ]
        },
        {
          "metadata": {
            "tags": null
          },
          "name": "stderr",
          "output_type": "stream",
          "text": [
            "\n",
            "100%|██████████| 383/383 [00:37<00:00, 10.30it/s]"
          ]
        },
        {
          "metadata": {
            "tags": null
          },
          "name": "stdout",
          "output_type": "stream",
          "text": [
            "\n",
            "train_mae_arr [4.055204213778415, 1.8628292446976904, 1.6316772502602883, 1.395118924999878, 1.227341976603792, 1.1519817577715326, 1.0612156420523235, 1.068930999390486, 1.0061492864724146, 0.90764278373761, 0.7819268785367002, 0.778746536367415, 0.802631254246023, 0.7386391211838043, 0.6157286095921899, 0.296317524211989, 0.28439199319074543, 0.3222034221446897, 0.29986566701337775, 0.3080198318767761, 0.2823844312108035, 0.26111988125673596] val_mae_arr [5.495244026184082, 3.167360782623291, 2.6051743030548096, 0.5303632616996765, 0.2743622064590454, 2.0302789211273193, 3.1393628120422363, 0.4822660982608795, 1.7356529235839844, 1.6325246095657349, 1.2782948017120361, 0.8795942664146423, 0.8600063323974609, 0.386810839176178, 1.3333159685134888, 0.1814141422510147, 0.2543065547943115, 0.21857191622257233, 0.6630833745002747, 0.07602076232433319, 0.15820099413394928, 0.8639259338378906] test_mae_arr [5.476871490478516, 3.1496078968048096, 2.60244083404541, 0.5198466777801514, 0.27520376443862915, 2.0299036502838135, 3.1302621364593506, 0.4751608073711395, 1.7399317026138306, 1.6423500776290894, 1.2738837003707886, 0.8761584162712097, 0.8559277653694153, 0.38346439599990845, 1.3299694061279297, 0.17881067097187042, 0.25391098856925964, 0.21783292293548584, 0.6615564823150635, 0.07507535815238953, 0.15701298415660858, 0.8650868535041809]\n",
            "{'Train': 0.26111988125673596, 'Validation': 0.8639259338378906, 'Test': 0.8650868535041809}\n",
            "\n",
            "=====Epoch 23\n",
            "\n",
            "Training...\n"
          ]
        },
        {
          "metadata": {
            "tags": null
          },
          "name": "stderr",
          "output_type": "stream",
          "text": [
            "\n",
            "100%|██████████| 2678/2678 [13:21<00:00,  3.34it/s]"
          ]
        },
        {
          "metadata": {
            "tags": null
          },
          "name": "stdout",
          "output_type": "stream",
          "text": [
            "\n",
            "\n",
            "Evaluating...\n"
          ]
        },
        {
          "metadata": {
            "tags": null
          },
          "name": "stderr",
          "output_type": "stream",
          "text": [
            "\n",
            "100%|██████████| 765/765 [01:14<00:00, 10.24it/s]"
          ]
        },
        {
          "metadata": {
            "tags": null
          },
          "name": "stdout",
          "output_type": "stream",
          "text": [
            "\n",
            "\n",
            "Testing...\n"
          ]
        },
        {
          "metadata": {
            "tags": null
          },
          "name": "stderr",
          "output_type": "stream",
          "text": [
            "\n",
            "100%|██████████| 383/383 [00:37<00:00, 10.21it/s]"
          ]
        },
        {
          "metadata": {
            "tags": null
          },
          "name": "stdout",
          "output_type": "stream",
          "text": [
            "\n",
            "train_mae_arr [4.055204213778415, 1.8628292446976904, 1.6316772502602883, 1.395118924999878, 1.227341976603792, 1.1519817577715326, 1.0612156420523235, 1.068930999390486, 1.0061492864724146, 0.90764278373761, 0.7819268785367002, 0.778746536367415, 0.802631254246023, 0.7386391211838043, 0.6157286095921899, 0.296317524211989, 0.28439199319074543, 0.3222034221446897, 0.29986566701337775, 0.3080198318767761, 0.2823844312108035, 0.26111988125673596, 0.2713740493398357] val_mae_arr [5.495244026184082, 3.167360782623291, 2.6051743030548096, 0.5303632616996765, 0.2743622064590454, 2.0302789211273193, 3.1393628120422363, 0.4822660982608795, 1.7356529235839844, 1.6325246095657349, 1.2782948017120361, 0.8795942664146423, 0.8600063323974609, 0.386810839176178, 1.3333159685134888, 0.1814141422510147, 0.2543065547943115, 0.21857191622257233, 0.6630833745002747, 0.07602076232433319, 0.15820099413394928, 0.8639259338378906, 0.3704213798046112] test_mae_arr [5.476871490478516, 3.1496078968048096, 2.60244083404541, 0.5198466777801514, 0.27520376443862915, 2.0299036502838135, 3.1302621364593506, 0.4751608073711395, 1.7399317026138306, 1.6423500776290894, 1.2738837003707886, 0.8761584162712097, 0.8559277653694153, 0.38346439599990845, 1.3299694061279297, 0.17881067097187042, 0.25391098856925964, 0.21783292293548584, 0.6615564823150635, 0.07507535815238953, 0.15701298415660858, 0.8650868535041809, 0.36863505840301514]\n",
            "{'Train': 0.2713740493398357, 'Validation': 0.3704213798046112, 'Test': 0.36863505840301514}\n",
            "\n",
            "=====Epoch 24\n",
            "\n",
            "Training...\n"
          ]
        },
        {
          "metadata": {
            "tags": null
          },
          "name": "stderr",
          "output_type": "stream",
          "text": [
            "\n",
            "100%|██████████| 2678/2678 [13:32<00:00,  3.30it/s]"
          ]
        },
        {
          "metadata": {
            "tags": null
          },
          "name": "stdout",
          "output_type": "stream",
          "text": [
            "\n",
            "\n",
            "Evaluating...\n"
          ]
        },
        {
          "metadata": {
            "tags": null
          },
          "name": "stderr",
          "output_type": "stream",
          "text": [
            "\n",
            "100%|██████████| 765/765 [01:16<00:00,  9.99it/s]"
          ]
        },
        {
          "metadata": {
            "tags": null
          },
          "name": "stdout",
          "output_type": "stream",
          "text": [
            "\n",
            "\n",
            "Testing...\n"
          ]
        },
        {
          "metadata": {
            "tags": null
          },
          "name": "stderr",
          "output_type": "stream",
          "text": [
            "\n",
            "100%|██████████| 383/383 [00:37<00:00, 10.17it/s]"
          ]
        },
        {
          "metadata": {
            "tags": null
          },
          "name": "stdout",
          "output_type": "stream",
          "text": [
            "\n",
            "train_mae_arr [4.055204213778415, 1.8628292446976904, 1.6316772502602883, 1.395118924999878, 1.227341976603792, 1.1519817577715326, 1.0612156420523235, 1.068930999390486, 1.0061492864724146, 0.90764278373761, 0.7819268785367002, 0.778746536367415, 0.802631254246023, 0.7386391211838043, 0.6157286095921899, 0.296317524211989, 0.28439199319074543, 0.3222034221446897, 0.29986566701337775, 0.3080198318767761, 0.2823844312108035, 0.26111988125673596, 0.2713740493398357, 0.26996878316991807] val_mae_arr [5.495244026184082, 3.167360782623291, 2.6051743030548096, 0.5303632616996765, 0.2743622064590454, 2.0302789211273193, 3.1393628120422363, 0.4822660982608795, 1.7356529235839844, 1.6325246095657349, 1.2782948017120361, 0.8795942664146423, 0.8600063323974609, 0.386810839176178, 1.3333159685134888, 0.1814141422510147, 0.2543065547943115, 0.21857191622257233, 0.6630833745002747, 0.07602076232433319, 0.15820099413394928, 0.8639259338378906, 0.3704213798046112, 0.6449750065803528] test_mae_arr [5.476871490478516, 3.1496078968048096, 2.60244083404541, 0.5198466777801514, 0.27520376443862915, 2.0299036502838135, 3.1302621364593506, 0.4751608073711395, 1.7399317026138306, 1.6423500776290894, 1.2738837003707886, 0.8761584162712097, 0.8559277653694153, 0.38346439599990845, 1.3299694061279297, 0.17881067097187042, 0.25391098856925964, 0.21783292293548584, 0.6615564823150635, 0.07507535815238953, 0.15701298415660858, 0.8650868535041809, 0.36863505840301514, 0.6411008834838867]\n",
            "{'Train': 0.26996878316991807, 'Validation': 0.6449750065803528, 'Test': 0.6411008834838867}\n",
            "\n",
            "=====Epoch 25\n",
            "\n",
            "Training...\n"
          ]
        },
        {
          "metadata": {
            "tags": null
          },
          "name": "stderr",
          "output_type": "stream",
          "text": [
            "\n",
            "100%|██████████| 2678/2678 [13:42<00:00,  3.26it/s]"
          ]
        },
        {
          "metadata": {
            "tags": null
          },
          "name": "stdout",
          "output_type": "stream",
          "text": [
            "\n",
            "\n",
            "Evaluating...\n"
          ]
        },
        {
          "metadata": {
            "tags": null
          },
          "name": "stderr",
          "output_type": "stream",
          "text": [
            "\n",
            "100%|██████████| 765/765 [01:14<00:00, 10.21it/s]"
          ]
        },
        {
          "metadata": {
            "tags": null
          },
          "name": "stdout",
          "output_type": "stream",
          "text": [
            "\n",
            "\n",
            "Testing...\n"
          ]
        },
        {
          "metadata": {
            "tags": null
          },
          "name": "stderr",
          "output_type": "stream",
          "text": [
            "\n",
            "100%|██████████| 383/383 [00:38<00:00, 10.05it/s]"
          ]
        },
        {
          "metadata": {
            "tags": null
          },
          "name": "stdout",
          "output_type": "stream",
          "text": [
            "\n",
            "train_mae_arr [4.055204213778415, 1.8628292446976904, 1.6316772502602883, 1.395118924999878, 1.227341976603792, 1.1519817577715326, 1.0612156420523235, 1.068930999390486, 1.0061492864724146, 0.90764278373761, 0.7819268785367002, 0.778746536367415, 0.802631254246023, 0.7386391211838043, 0.6157286095921899, 0.296317524211989, 0.28439199319074543, 0.3222034221446897, 0.29986566701337775, 0.3080198318767761, 0.2823844312108035, 0.26111988125673596, 0.2713740493398357, 0.26996878316991807, 0.25800652366863247] val_mae_arr [5.495244026184082, 3.167360782623291, 2.6051743030548096, 0.5303632616996765, 0.2743622064590454, 2.0302789211273193, 3.1393628120422363, 0.4822660982608795, 1.7356529235839844, 1.6325246095657349, 1.2782948017120361, 0.8795942664146423, 0.8600063323974609, 0.386810839176178, 1.3333159685134888, 0.1814141422510147, 0.2543065547943115, 0.21857191622257233, 0.6630833745002747, 0.07602076232433319, 0.15820099413394928, 0.8639259338378906, 0.3704213798046112, 0.6449750065803528, 0.2060464322566986] test_mae_arr [5.476871490478516, 3.1496078968048096, 2.60244083404541, 0.5198466777801514, 0.27520376443862915, 2.0299036502838135, 3.1302621364593506, 0.4751608073711395, 1.7399317026138306, 1.6423500776290894, 1.2738837003707886, 0.8761584162712097, 0.8559277653694153, 0.38346439599990845, 1.3299694061279297, 0.17881067097187042, 0.25391098856925964, 0.21783292293548584, 0.6615564823150635, 0.07507535815238953, 0.15701298415660858, 0.8650868535041809, 0.36863505840301514, 0.6411008834838867, 0.20813927054405212]\n",
            "{'Train': 0.25800652366863247, 'Validation': 0.2060464322566986, 'Test': 0.20813927054405212}\n",
            "\n",
            "=====Epoch 26\n",
            "\n",
            "Training...\n"
          ]
        },
        {
          "metadata": {
            "tags": null
          },
          "name": "stderr",
          "output_type": "stream",
          "text": [
            "\n",
            "100%|██████████| 2678/2678 [13:37<00:00,  3.28it/s]"
          ]
        },
        {
          "metadata": {
            "tags": null
          },
          "name": "stdout",
          "output_type": "stream",
          "text": [
            "\n",
            "\n",
            "Evaluating...\n"
          ]
        },
        {
          "metadata": {
            "tags": null
          },
          "name": "stderr",
          "output_type": "stream",
          "text": [
            "\n",
            "100%|██████████| 765/765 [01:15<00:00, 10.19it/s]"
          ]
        },
        {
          "metadata": {
            "tags": null
          },
          "name": "stdout",
          "output_type": "stream",
          "text": [
            "\n",
            "\n",
            "Testing...\n"
          ]
        },
        {
          "metadata": {
            "tags": null
          },
          "name": "stderr",
          "output_type": "stream",
          "text": [
            "\n",
            "100%|██████████| 383/383 [00:36<00:00, 10.57it/s]"
          ]
        },
        {
          "metadata": {
            "tags": null
          },
          "name": "stdout",
          "output_type": "stream",
          "text": [
            "\n",
            "train_mae_arr [4.055204213778415, 1.8628292446976904, 1.6316772502602883, 1.395118924999878, 1.227341976603792, 1.1519817577715326, 1.0612156420523235, 1.068930999390486, 1.0061492864724146, 0.90764278373761, 0.7819268785367002, 0.778746536367415, 0.802631254246023, 0.7386391211838043, 0.6157286095921899, 0.296317524211989, 0.28439199319074543, 0.3222034221446897, 0.29986566701337775, 0.3080198318767761, 0.2823844312108035, 0.26111988125673596, 0.2713740493398357, 0.26996878316991807, 0.25800652366863247, 0.2555891345738474] val_mae_arr [5.495244026184082, 3.167360782623291, 2.6051743030548096, 0.5303632616996765, 0.2743622064590454, 2.0302789211273193, 3.1393628120422363, 0.4822660982608795, 1.7356529235839844, 1.6325246095657349, 1.2782948017120361, 0.8795942664146423, 0.8600063323974609, 0.386810839176178, 1.3333159685134888, 0.1814141422510147, 0.2543065547943115, 0.21857191622257233, 0.6630833745002747, 0.07602076232433319, 0.15820099413394928, 0.8639259338378906, 0.3704213798046112, 0.6449750065803528, 0.2060464322566986, 0.24551327526569366] test_mae_arr [5.476871490478516, 3.1496078968048096, 2.60244083404541, 0.5198466777801514, 0.27520376443862915, 2.0299036502838135, 3.1302621364593506, 0.4751608073711395, 1.7399317026138306, 1.6423500776290894, 1.2738837003707886, 0.8761584162712097, 0.8559277653694153, 0.38346439599990845, 1.3299694061279297, 0.17881067097187042, 0.25391098856925964, 0.21783292293548584, 0.6615564823150635, 0.07507535815238953, 0.15701298415660858, 0.8650868535041809, 0.36863505840301514, 0.6411008834838867, 0.20813927054405212, 0.24102559685707092]\n",
            "{'Train': 0.2555891345738474, 'Validation': 0.24551327526569366, 'Test': 0.24102559685707092}\n",
            "\n",
            "=====Epoch 27\n",
            "\n",
            "Training...\n"
          ]
        },
        {
          "metadata": {
            "tags": null
          },
          "name": "stderr",
          "output_type": "stream",
          "text": [
            "\n",
            "100%|██████████| 2678/2678 [13:46<00:00,  3.24it/s]"
          ]
        },
        {
          "metadata": {
            "tags": null
          },
          "name": "stdout",
          "output_type": "stream",
          "text": [
            "\n",
            "\n",
            "Evaluating...\n"
          ]
        },
        {
          "metadata": {
            "tags": null
          },
          "name": "stderr",
          "output_type": "stream",
          "text": [
            "\n",
            "100%|██████████| 765/765 [01:15<00:00, 10.15it/s]"
          ]
        },
        {
          "metadata": {
            "tags": null
          },
          "name": "stdout",
          "output_type": "stream",
          "text": [
            "\n",
            "\n",
            "Testing...\n"
          ]
        },
        {
          "metadata": {
            "tags": null
          },
          "name": "stderr",
          "output_type": "stream",
          "text": [
            "\n",
            "100%|██████████| 383/383 [00:36<00:00, 10.60it/s]"
          ]
        },
        {
          "metadata": {
            "tags": null
          },
          "name": "stdout",
          "output_type": "stream",
          "text": [
            "\n",
            "train_mae_arr [4.055204213778415, 1.8628292446976904, 1.6316772502602883, 1.395118924999878, 1.227341976603792, 1.1519817577715326, 1.0612156420523235, 1.068930999390486, 1.0061492864724146, 0.90764278373761, 0.7819268785367002, 0.778746536367415, 0.802631254246023, 0.7386391211838043, 0.6157286095921899, 0.296317524211989, 0.28439199319074543, 0.3222034221446897, 0.29986566701337775, 0.3080198318767761, 0.2823844312108035, 0.26111988125673596, 0.2713740493398357, 0.26996878316991807, 0.25800652366863247, 0.2555891345738474, 0.260896972883451] val_mae_arr [5.495244026184082, 3.167360782623291, 2.6051743030548096, 0.5303632616996765, 0.2743622064590454, 2.0302789211273193, 3.1393628120422363, 0.4822660982608795, 1.7356529235839844, 1.6325246095657349, 1.2782948017120361, 0.8795942664146423, 0.8600063323974609, 0.386810839176178, 1.3333159685134888, 0.1814141422510147, 0.2543065547943115, 0.21857191622257233, 0.6630833745002747, 0.07602076232433319, 0.15820099413394928, 0.8639259338378906, 0.3704213798046112, 0.6449750065803528, 0.2060464322566986, 0.24551327526569366, 0.09456435590982437] test_mae_arr [5.476871490478516, 3.1496078968048096, 2.60244083404541, 0.5198466777801514, 0.27520376443862915, 2.0299036502838135, 3.1302621364593506, 0.4751608073711395, 1.7399317026138306, 1.6423500776290894, 1.2738837003707886, 0.8761584162712097, 0.8559277653694153, 0.38346439599990845, 1.3299694061279297, 0.17881067097187042, 0.25391098856925964, 0.21783292293548584, 0.6615564823150635, 0.07507535815238953, 0.15701298415660858, 0.8650868535041809, 0.36863505840301514, 0.6411008834838867, 0.20813927054405212, 0.24102559685707092, 0.09599523991346359]\n",
            "{'Train': 0.260896972883451, 'Validation': 0.09456435590982437, 'Test': 0.09599523991346359}\n",
            "\n",
            "=====Epoch 28\n",
            "\n",
            "Training...\n"
          ]
        },
        {
          "metadata": {
            "tags": null
          },
          "name": "stderr",
          "output_type": "stream",
          "text": [
            "\n",
            "100%|██████████| 2678/2678 [13:44<00:00,  3.25it/s]"
          ]
        },
        {
          "metadata": {
            "tags": null
          },
          "name": "stdout",
          "output_type": "stream",
          "text": [
            "\n",
            "\n",
            "Evaluating...\n"
          ]
        },
        {
          "metadata": {
            "tags": null
          },
          "name": "stderr",
          "output_type": "stream",
          "text": [
            "\n",
            "100%|██████████| 765/765 [01:13<00:00, 10.44it/s]"
          ]
        },
        {
          "metadata": {
            "tags": null
          },
          "name": "stdout",
          "output_type": "stream",
          "text": [
            "\n",
            "\n",
            "Testing...\n"
          ]
        },
        {
          "metadata": {
            "tags": null
          },
          "name": "stderr",
          "output_type": "stream",
          "text": [
            "\n",
            "100%|██████████| 383/383 [00:36<00:00, 10.54it/s]"
          ]
        },
        {
          "metadata": {
            "tags": null
          },
          "name": "stdout",
          "output_type": "stream",
          "text": [
            "\n",
            "train_mae_arr [4.055204213778415, 1.8628292446976904, 1.6316772502602883, 1.395118924999878, 1.227341976603792, 1.1519817577715326, 1.0612156420523235, 1.068930999390486, 1.0061492864724146, 0.90764278373761, 0.7819268785367002, 0.778746536367415, 0.802631254246023, 0.7386391211838043, 0.6157286095921899, 0.296317524211989, 0.28439199319074543, 0.3222034221446897, 0.29986566701337775, 0.3080198318767761, 0.2823844312108035, 0.26111988125673596, 0.2713740493398357, 0.26996878316991807, 0.25800652366863247, 0.2555891345738474, 0.260896972883451, 0.2767521185693321] val_mae_arr [5.495244026184082, 3.167360782623291, 2.6051743030548096, 0.5303632616996765, 0.2743622064590454, 2.0302789211273193, 3.1393628120422363, 0.4822660982608795, 1.7356529235839844, 1.6325246095657349, 1.2782948017120361, 0.8795942664146423, 0.8600063323974609, 0.386810839176178, 1.3333159685134888, 0.1814141422510147, 0.2543065547943115, 0.21857191622257233, 0.6630833745002747, 0.07602076232433319, 0.15820099413394928, 0.8639259338378906, 0.3704213798046112, 0.6449750065803528, 0.2060464322566986, 0.24551327526569366, 0.09456435590982437, 0.11808784306049347] test_mae_arr [5.476871490478516, 3.1496078968048096, 2.60244083404541, 0.5198466777801514, 0.27520376443862915, 2.0299036502838135, 3.1302621364593506, 0.4751608073711395, 1.7399317026138306, 1.6423500776290894, 1.2738837003707886, 0.8761584162712097, 0.8559277653694153, 0.38346439599990845, 1.3299694061279297, 0.17881067097187042, 0.25391098856925964, 0.21783292293548584, 0.6615564823150635, 0.07507535815238953, 0.15701298415660858, 0.8650868535041809, 0.36863505840301514, 0.6411008834838867, 0.20813927054405212, 0.24102559685707092, 0.09599523991346359, 0.11686380952596664]\n",
            "{'Train': 0.2767521185693321, 'Validation': 0.11808784306049347, 'Test': 0.11686380952596664}\n",
            "\n",
            "=====Epoch 29\n",
            "\n",
            "Training...\n"
          ]
        },
        {
          "metadata": {
            "tags": null
          },
          "name": "stderr",
          "output_type": "stream",
          "text": [
            "\n",
            "100%|██████████| 2678/2678 [13:48<00:00,  3.23it/s]"
          ]
        },
        {
          "metadata": {
            "tags": null
          },
          "name": "stdout",
          "output_type": "stream",
          "text": [
            "\n",
            "\n",
            "Evaluating...\n"
          ]
        },
        {
          "metadata": {
            "tags": null
          },
          "name": "stderr",
          "output_type": "stream",
          "text": [
            "\n",
            "100%|██████████| 765/765 [01:14<00:00, 10.31it/s]"
          ]
        },
        {
          "metadata": {
            "tags": null
          },
          "name": "stdout",
          "output_type": "stream",
          "text": [
            "\n",
            "\n",
            "Testing...\n"
          ]
        },
        {
          "metadata": {
            "tags": null
          },
          "name": "stderr",
          "output_type": "stream",
          "text": [
            "\n",
            "100%|██████████| 383/383 [00:36<00:00, 10.56it/s]"
          ]
        },
        {
          "metadata": {
            "tags": null
          },
          "name": "stdout",
          "output_type": "stream",
          "text": [
            "\n",
            "train_mae_arr [4.055204213778415, 1.8628292446976904, 1.6316772502602883, 1.395118924999878, 1.227341976603792, 1.1519817577715326, 1.0612156420523235, 1.068930999390486, 1.0061492864724146, 0.90764278373761, 0.7819268785367002, 0.778746536367415, 0.802631254246023, 0.7386391211838043, 0.6157286095921899, 0.296317524211989, 0.28439199319074543, 0.3222034221446897, 0.29986566701337775, 0.3080198318767761, 0.2823844312108035, 0.26111988125673596, 0.2713740493398357, 0.26996878316991807, 0.25800652366863247, 0.2555891345738474, 0.260896972883451, 0.2767521185693321, 0.2590694594863994] val_mae_arr [5.495244026184082, 3.167360782623291, 2.6051743030548096, 0.5303632616996765, 0.2743622064590454, 2.0302789211273193, 3.1393628120422363, 0.4822660982608795, 1.7356529235839844, 1.6325246095657349, 1.2782948017120361, 0.8795942664146423, 0.8600063323974609, 0.386810839176178, 1.3333159685134888, 0.1814141422510147, 0.2543065547943115, 0.21857191622257233, 0.6630833745002747, 0.07602076232433319, 0.15820099413394928, 0.8639259338378906, 0.3704213798046112, 0.6449750065803528, 0.2060464322566986, 0.24551327526569366, 0.09456435590982437, 0.11808784306049347, 0.4007274806499481] test_mae_arr [5.476871490478516, 3.1496078968048096, 2.60244083404541, 0.5198466777801514, 0.27520376443862915, 2.0299036502838135, 3.1302621364593506, 0.4751608073711395, 1.7399317026138306, 1.6423500776290894, 1.2738837003707886, 0.8761584162712097, 0.8559277653694153, 0.38346439599990845, 1.3299694061279297, 0.17881067097187042, 0.25391098856925964, 0.21783292293548584, 0.6615564823150635, 0.07507535815238953, 0.15701298415660858, 0.8650868535041809, 0.36863505840301514, 0.6411008834838867, 0.20813927054405212, 0.24102559685707092, 0.09599523991346359, 0.11686380952596664, 0.40397825837135315]\n",
            "{'Train': 0.2590694594863994, 'Validation': 0.4007274806499481, 'Test': 0.40397825837135315}\n",
            "\n",
            "=====Epoch 30\n",
            "\n",
            "Training...\n"
          ]
        },
        {
          "metadata": {
            "tags": null
          },
          "name": "stderr",
          "output_type": "stream",
          "text": [
            "\n",
            "100%|██████████| 2678/2678 [13:45<00:00,  3.25it/s]"
          ]
        },
        {
          "metadata": {
            "tags": null
          },
          "name": "stdout",
          "output_type": "stream",
          "text": [
            "\n",
            "\n",
            "Evaluating...\n"
          ]
        },
        {
          "metadata": {
            "tags": null
          },
          "name": "stderr",
          "output_type": "stream",
          "text": [
            "\n",
            "100%|██████████| 765/765 [01:15<00:00, 10.19it/s]"
          ]
        },
        {
          "metadata": {
            "tags": null
          },
          "name": "stdout",
          "output_type": "stream",
          "text": [
            "\n",
            "\n",
            "Testing...\n"
          ]
        },
        {
          "metadata": {
            "tags": null
          },
          "name": "stderr",
          "output_type": "stream",
          "text": [
            "\n",
            "100%|██████████| 383/383 [00:37<00:00, 10.26it/s]"
          ]
        },
        {
          "metadata": {
            "tags": null
          },
          "name": "stdout",
          "output_type": "stream",
          "text": [
            "\n",
            "train_mae_arr [4.055204213778415, 1.8628292446976904, 1.6316772502602883, 1.395118924999878, 1.227341976603792, 1.1519817577715326, 1.0612156420523235, 1.068930999390486, 1.0061492864724146, 0.90764278373761, 0.7819268785367002, 0.778746536367415, 0.802631254246023, 0.7386391211838043, 0.6157286095921899, 0.296317524211989, 0.28439199319074543, 0.3222034221446897, 0.29986566701337775, 0.3080198318767761, 0.2823844312108035, 0.26111988125673596, 0.2713740493398357, 0.26996878316991807, 0.25800652366863247, 0.2555891345738474, 0.260896972883451, 0.2767521185693321, 0.2590694594863994, 0.2598164523155321] val_mae_arr [5.495244026184082, 3.167360782623291, 2.6051743030548096, 0.5303632616996765, 0.2743622064590454, 2.0302789211273193, 3.1393628120422363, 0.4822660982608795, 1.7356529235839844, 1.6325246095657349, 1.2782948017120361, 0.8795942664146423, 0.8600063323974609, 0.386810839176178, 1.3333159685134888, 0.1814141422510147, 0.2543065547943115, 0.21857191622257233, 0.6630833745002747, 0.07602076232433319, 0.15820099413394928, 0.8639259338378906, 0.3704213798046112, 0.6449750065803528, 0.2060464322566986, 0.24551327526569366, 0.09456435590982437, 0.11808784306049347, 0.4007274806499481, 0.6005246043205261] test_mae_arr [5.476871490478516, 3.1496078968048096, 2.60244083404541, 0.5198466777801514, 0.27520376443862915, 2.0299036502838135, 3.1302621364593506, 0.4751608073711395, 1.7399317026138306, 1.6423500776290894, 1.2738837003707886, 0.8761584162712097, 0.8559277653694153, 0.38346439599990845, 1.3299694061279297, 0.17881067097187042, 0.25391098856925964, 0.21783292293548584, 0.6615564823150635, 0.07507535815238953, 0.15701298415660858, 0.8650868535041809, 0.36863505840301514, 0.6411008834838867, 0.20813927054405212, 0.24102559685707092, 0.09599523991346359, 0.11686380952596664, 0.40397825837135315, 0.6001951098442078]\n",
            "{'Train': 0.2598164523155321, 'Validation': 0.6005246043205261, 'Test': 0.6001951098442078}\n",
            "\n",
            "=====Epoch 31\n",
            "\n",
            "Training...\n"
          ]
        },
        {
          "metadata": {
            "tags": null
          },
          "name": "stderr",
          "output_type": "stream",
          "text": [
            "\n",
            "100%|██████████| 2678/2678 [13:53<00:00,  3.21it/s]"
          ]
        },
        {
          "metadata": {
            "tags": null
          },
          "name": "stdout",
          "output_type": "stream",
          "text": [
            "\n",
            "\n",
            "Evaluating...\n"
          ]
        },
        {
          "metadata": {
            "tags": null
          },
          "name": "stderr",
          "output_type": "stream",
          "text": [
            "\n",
            "100%|██████████| 765/765 [01:15<00:00, 10.09it/s]"
          ]
        },
        {
          "metadata": {
            "tags": null
          },
          "name": "stdout",
          "output_type": "stream",
          "text": [
            "\n",
            "\n",
            "Testing...\n"
          ]
        },
        {
          "metadata": {
            "tags": null
          },
          "name": "stderr",
          "output_type": "stream",
          "text": [
            "\n",
            "100%|██████████| 383/383 [00:37<00:00, 10.30it/s]"
          ]
        },
        {
          "metadata": {
            "tags": null
          },
          "name": "stdout",
          "output_type": "stream",
          "text": [
            "\n",
            "train_mae_arr [4.055204213778415, 1.8628292446976904, 1.6316772502602883, 1.395118924999878, 1.227341976603792, 1.1519817577715326, 1.0612156420523235, 1.068930999390486, 1.0061492864724146, 0.90764278373761, 0.7819268785367002, 0.778746536367415, 0.802631254246023, 0.7386391211838043, 0.6157286095921899, 0.296317524211989, 0.28439199319074543, 0.3222034221446897, 0.29986566701337775, 0.3080198318767761, 0.2823844312108035, 0.26111988125673596, 0.2713740493398357, 0.26996878316991807, 0.25800652366863247, 0.2555891345738474, 0.260896972883451, 0.2767521185693321, 0.2590694594863994, 0.2598164523155321, 0.11204648507540577] val_mae_arr [5.495244026184082, 3.167360782623291, 2.6051743030548096, 0.5303632616996765, 0.2743622064590454, 2.0302789211273193, 3.1393628120422363, 0.4822660982608795, 1.7356529235839844, 1.6325246095657349, 1.2782948017120361, 0.8795942664146423, 0.8600063323974609, 0.386810839176178, 1.3333159685134888, 0.1814141422510147, 0.2543065547943115, 0.21857191622257233, 0.6630833745002747, 0.07602076232433319, 0.15820099413394928, 0.8639259338378906, 0.3704213798046112, 0.6449750065803528, 0.2060464322566986, 0.24551327526569366, 0.09456435590982437, 0.11808784306049347, 0.4007274806499481, 0.6005246043205261, 0.11602747440338135] test_mae_arr [5.476871490478516, 3.1496078968048096, 2.60244083404541, 0.5198466777801514, 0.27520376443862915, 2.0299036502838135, 3.1302621364593506, 0.4751608073711395, 1.7399317026138306, 1.6423500776290894, 1.2738837003707886, 0.8761584162712097, 0.8559277653694153, 0.38346439599990845, 1.3299694061279297, 0.17881067097187042, 0.25391098856925964, 0.21783292293548584, 0.6615564823150635, 0.07507535815238953, 0.15701298415660858, 0.8650868535041809, 0.36863505840301514, 0.6411008834838867, 0.20813927054405212, 0.24102559685707092, 0.09599523991346359, 0.11686380952596664, 0.40397825837135315, 0.6001951098442078, 0.11433540284633636]\n",
            "{'Train': 0.11204648507540577, 'Validation': 0.11602747440338135, 'Test': 0.11433540284633636}\n",
            "\n",
            "=====Epoch 32\n",
            "\n",
            "Training...\n"
          ]
        },
        {
          "metadata": {
            "tags": null
          },
          "name": "stderr",
          "output_type": "stream",
          "text": [
            "\n",
            "100%|██████████| 2678/2678 [13:58<00:00,  3.20it/s]"
          ]
        },
        {
          "metadata": {
            "tags": null
          },
          "name": "stdout",
          "output_type": "stream",
          "text": [
            "\n",
            "\n",
            "Evaluating...\n"
          ]
        },
        {
          "metadata": {
            "tags": null
          },
          "name": "stderr",
          "output_type": "stream",
          "text": [
            "\n",
            "100%|██████████| 765/765 [01:15<00:00, 10.13it/s]"
          ]
        },
        {
          "metadata": {
            "tags": null
          },
          "name": "stdout",
          "output_type": "stream",
          "text": [
            "\n",
            "\n",
            "Testing...\n"
          ]
        },
        {
          "metadata": {
            "tags": null
          },
          "name": "stderr",
          "output_type": "stream",
          "text": [
            "\n",
            "100%|██████████| 383/383 [00:36<00:00, 10.52it/s]"
          ]
        },
        {
          "metadata": {
            "tags": null
          },
          "name": "stdout",
          "output_type": "stream",
          "text": [
            "\n",
            "train_mae_arr [4.055204213778415, 1.8628292446976904, 1.6316772502602883, 1.395118924999878, 1.227341976603792, 1.1519817577715326, 1.0612156420523235, 1.068930999390486, 1.0061492864724146, 0.90764278373761, 0.7819268785367002, 0.778746536367415, 0.802631254246023, 0.7386391211838043, 0.6157286095921899, 0.296317524211989, 0.28439199319074543, 0.3222034221446897, 0.29986566701337775, 0.3080198318767761, 0.2823844312108035, 0.26111988125673596, 0.2713740493398357, 0.26996878316991807, 0.25800652366863247, 0.2555891345738474, 0.260896972883451, 0.2767521185693321, 0.2590694594863994, 0.2598164523155321, 0.11204648507540577, 0.10730591115887438] val_mae_arr [5.495244026184082, 3.167360782623291, 2.6051743030548096, 0.5303632616996765, 0.2743622064590454, 2.0302789211273193, 3.1393628120422363, 0.4822660982608795, 1.7356529235839844, 1.6325246095657349, 1.2782948017120361, 0.8795942664146423, 0.8600063323974609, 0.386810839176178, 1.3333159685134888, 0.1814141422510147, 0.2543065547943115, 0.21857191622257233, 0.6630833745002747, 0.07602076232433319, 0.15820099413394928, 0.8639259338378906, 0.3704213798046112, 0.6449750065803528, 0.2060464322566986, 0.24551327526569366, 0.09456435590982437, 0.11808784306049347, 0.4007274806499481, 0.6005246043205261, 0.11602747440338135, 0.11924812197685242] test_mae_arr [5.476871490478516, 3.1496078968048096, 2.60244083404541, 0.5198466777801514, 0.27520376443862915, 2.0299036502838135, 3.1302621364593506, 0.4751608073711395, 1.7399317026138306, 1.6423500776290894, 1.2738837003707886, 0.8761584162712097, 0.8559277653694153, 0.38346439599990845, 1.3299694061279297, 0.17881067097187042, 0.25391098856925964, 0.21783292293548584, 0.6615564823150635, 0.07507535815238953, 0.15701298415660858, 0.8650868535041809, 0.36863505840301514, 0.6411008834838867, 0.20813927054405212, 0.24102559685707092, 0.09599523991346359, 0.11686380952596664, 0.40397825837135315, 0.6001951098442078, 0.11433540284633636, 0.11963745206594467]\n",
            "{'Train': 0.10730591115887438, 'Validation': 0.11924812197685242, 'Test': 0.11963745206594467}\n",
            "\n",
            "=====Epoch 33\n",
            "\n",
            "Training...\n"
          ]
        },
        {
          "metadata": {
            "tags": null
          },
          "name": "stderr",
          "output_type": "stream",
          "text": [
            "\n",
            "100%|██████████| 2678/2678 [13:46<00:00,  3.24it/s]"
          ]
        },
        {
          "metadata": {
            "tags": null
          },
          "name": "stdout",
          "output_type": "stream",
          "text": [
            "\n",
            "\n",
            "Evaluating...\n"
          ]
        },
        {
          "metadata": {
            "tags": null
          },
          "name": "stderr",
          "output_type": "stream",
          "text": [
            "\n",
            "100%|██████████| 765/765 [01:13<00:00, 10.39it/s]"
          ]
        },
        {
          "metadata": {
            "tags": null
          },
          "name": "stdout",
          "output_type": "stream",
          "text": [
            "\n",
            "\n",
            "Testing...\n"
          ]
        },
        {
          "metadata": {
            "tags": null
          },
          "name": "stderr",
          "output_type": "stream",
          "text": [
            "\n",
            "100%|██████████| 383/383 [00:36<00:00, 10.58it/s]"
          ]
        },
        {
          "metadata": {
            "tags": null
          },
          "name": "stdout",
          "output_type": "stream",
          "text": [
            "\n",
            "train_mae_arr [4.055204213778415, 1.8628292446976904, 1.6316772502602883, 1.395118924999878, 1.227341976603792, 1.1519817577715326, 1.0612156420523235, 1.068930999390486, 1.0061492864724146, 0.90764278373761, 0.7819268785367002, 0.778746536367415, 0.802631254246023, 0.7386391211838043, 0.6157286095921899, 0.296317524211989, 0.28439199319074543, 0.3222034221446897, 0.29986566701337775, 0.3080198318767761, 0.2823844312108035, 0.26111988125673596, 0.2713740493398357, 0.26996878316991807, 0.25800652366863247, 0.2555891345738474, 0.260896972883451, 0.2767521185693321, 0.2590694594863994, 0.2598164523155321, 0.11204648507540577, 0.10730591115887438, 0.11298104967084548] val_mae_arr [5.495244026184082, 3.167360782623291, 2.6051743030548096, 0.5303632616996765, 0.2743622064590454, 2.0302789211273193, 3.1393628120422363, 0.4822660982608795, 1.7356529235839844, 1.6325246095657349, 1.2782948017120361, 0.8795942664146423, 0.8600063323974609, 0.386810839176178, 1.3333159685134888, 0.1814141422510147, 0.2543065547943115, 0.21857191622257233, 0.6630833745002747, 0.07602076232433319, 0.15820099413394928, 0.8639259338378906, 0.3704213798046112, 0.6449750065803528, 0.2060464322566986, 0.24551327526569366, 0.09456435590982437, 0.11808784306049347, 0.4007274806499481, 0.6005246043205261, 0.11602747440338135, 0.11924812197685242, 0.11993823945522308] test_mae_arr [5.476871490478516, 3.1496078968048096, 2.60244083404541, 0.5198466777801514, 0.27520376443862915, 2.0299036502838135, 3.1302621364593506, 0.4751608073711395, 1.7399317026138306, 1.6423500776290894, 1.2738837003707886, 0.8761584162712097, 0.8559277653694153, 0.38346439599990845, 1.3299694061279297, 0.17881067097187042, 0.25391098856925964, 0.21783292293548584, 0.6615564823150635, 0.07507535815238953, 0.15701298415660858, 0.8650868535041809, 0.36863505840301514, 0.6411008834838867, 0.20813927054405212, 0.24102559685707092, 0.09599523991346359, 0.11686380952596664, 0.40397825837135315, 0.6001951098442078, 0.11433540284633636, 0.11963745206594467, 0.1179523766040802]\n",
            "{'Train': 0.11298104967084548, 'Validation': 0.11993823945522308, 'Test': 0.1179523766040802}\n",
            "\n",
            "=====Epoch 34\n",
            "\n",
            "Training...\n"
          ]
        },
        {
          "metadata": {
            "tags": null
          },
          "name": "stderr",
          "output_type": "stream",
          "text": [
            "\n",
            "100%|██████████| 2678/2678 [13:57<00:00,  3.20it/s]"
          ]
        },
        {
          "metadata": {
            "tags": null
          },
          "name": "stdout",
          "output_type": "stream",
          "text": [
            "\n",
            "\n",
            "Evaluating...\n"
          ]
        },
        {
          "metadata": {
            "tags": null
          },
          "name": "stderr",
          "output_type": "stream",
          "text": [
            "\n",
            "100%|██████████| 765/765 [01:13<00:00, 10.36it/s]"
          ]
        },
        {
          "metadata": {
            "tags": null
          },
          "name": "stdout",
          "output_type": "stream",
          "text": [
            "\n",
            "\n",
            "Testing...\n"
          ]
        },
        {
          "metadata": {
            "tags": null
          },
          "name": "stderr",
          "output_type": "stream",
          "text": [
            "\n",
            "100%|██████████| 383/383 [00:36<00:00, 10.43it/s]"
          ]
        },
        {
          "metadata": {
            "tags": null
          },
          "name": "stdout",
          "output_type": "stream",
          "text": [
            "\n",
            "train_mae_arr [4.055204213778415, 1.8628292446976904, 1.6316772502602883, 1.395118924999878, 1.227341976603792, 1.1519817577715326, 1.0612156420523235, 1.068930999390486, 1.0061492864724146, 0.90764278373761, 0.7819268785367002, 0.778746536367415, 0.802631254246023, 0.7386391211838043, 0.6157286095921899, 0.296317524211989, 0.28439199319074543, 0.3222034221446897, 0.29986566701337775, 0.3080198318767761, 0.2823844312108035, 0.26111988125673596, 0.2713740493398357, 0.26996878316991807, 0.25800652366863247, 0.2555891345738474, 0.260896972883451, 0.2767521185693321, 0.2590694594863994, 0.2598164523155321, 0.11204648507540577, 0.10730591115887438, 0.11298104967084548, 0.11079099785489231] val_mae_arr [5.495244026184082, 3.167360782623291, 2.6051743030548096, 0.5303632616996765, 0.2743622064590454, 2.0302789211273193, 3.1393628120422363, 0.4822660982608795, 1.7356529235839844, 1.6325246095657349, 1.2782948017120361, 0.8795942664146423, 0.8600063323974609, 0.386810839176178, 1.3333159685134888, 0.1814141422510147, 0.2543065547943115, 0.21857191622257233, 0.6630833745002747, 0.07602076232433319, 0.15820099413394928, 0.8639259338378906, 0.3704213798046112, 0.6449750065803528, 0.2060464322566986, 0.24551327526569366, 0.09456435590982437, 0.11808784306049347, 0.4007274806499481, 0.6005246043205261, 0.11602747440338135, 0.11924812197685242, 0.11993823945522308, 0.14628709852695465] test_mae_arr [5.476871490478516, 3.1496078968048096, 2.60244083404541, 0.5198466777801514, 0.27520376443862915, 2.0299036502838135, 3.1302621364593506, 0.4751608073711395, 1.7399317026138306, 1.6423500776290894, 1.2738837003707886, 0.8761584162712097, 0.8559277653694153, 0.38346439599990845, 1.3299694061279297, 0.17881067097187042, 0.25391098856925964, 0.21783292293548584, 0.6615564823150635, 0.07507535815238953, 0.15701298415660858, 0.8650868535041809, 0.36863505840301514, 0.6411008834838867, 0.20813927054405212, 0.24102559685707092, 0.09599523991346359, 0.11686380952596664, 0.40397825837135315, 0.6001951098442078, 0.11433540284633636, 0.11963745206594467, 0.1179523766040802, 0.14570410549640656]\n",
            "{'Train': 0.11079099785489231, 'Validation': 0.14628709852695465, 'Test': 0.14570410549640656}\n",
            "\n",
            "=====Epoch 35\n",
            "\n",
            "Training...\n"
          ]
        },
        {
          "metadata": {
            "tags": null
          },
          "name": "stderr",
          "output_type": "stream",
          "text": [
            "\n",
            "100%|██████████| 2678/2678 [13:51<00:00,  3.22it/s]"
          ]
        },
        {
          "metadata": {
            "tags": null
          },
          "name": "stdout",
          "output_type": "stream",
          "text": [
            "\n",
            "\n",
            "Evaluating...\n"
          ]
        },
        {
          "metadata": {
            "tags": null
          },
          "name": "stderr",
          "output_type": "stream",
          "text": [
            "\n",
            "100%|██████████| 765/765 [01:13<00:00, 10.42it/s]"
          ]
        },
        {
          "metadata": {
            "tags": null
          },
          "name": "stdout",
          "output_type": "stream",
          "text": [
            "\n",
            "\n",
            "Testing...\n"
          ]
        },
        {
          "metadata": {
            "tags": null
          },
          "name": "stderr",
          "output_type": "stream",
          "text": [
            "\n",
            "100%|██████████| 383/383 [00:35<00:00, 10.81it/s]"
          ]
        },
        {
          "metadata": {
            "tags": null
          },
          "name": "stdout",
          "output_type": "stream",
          "text": [
            "\n",
            "train_mae_arr [4.055204213778415, 1.8628292446976904, 1.6316772502602883, 1.395118924999878, 1.227341976603792, 1.1519817577715326, 1.0612156420523235, 1.068930999390486, 1.0061492864724146, 0.90764278373761, 0.7819268785367002, 0.778746536367415, 0.802631254246023, 0.7386391211838043, 0.6157286095921899, 0.296317524211989, 0.28439199319074543, 0.3222034221446897, 0.29986566701337775, 0.3080198318767761, 0.2823844312108035, 0.26111988125673596, 0.2713740493398357, 0.26996878316991807, 0.25800652366863247, 0.2555891345738474, 0.260896972883451, 0.2767521185693321, 0.2590694594863994, 0.2598164523155321, 0.11204648507540577, 0.10730591115887438, 0.11298104967084548, 0.11079099785489231, 0.11203619078792147] val_mae_arr [5.495244026184082, 3.167360782623291, 2.6051743030548096, 0.5303632616996765, 0.2743622064590454, 2.0302789211273193, 3.1393628120422363, 0.4822660982608795, 1.7356529235839844, 1.6325246095657349, 1.2782948017120361, 0.8795942664146423, 0.8600063323974609, 0.386810839176178, 1.3333159685134888, 0.1814141422510147, 0.2543065547943115, 0.21857191622257233, 0.6630833745002747, 0.07602076232433319, 0.15820099413394928, 0.8639259338378906, 0.3704213798046112, 0.6449750065803528, 0.2060464322566986, 0.24551327526569366, 0.09456435590982437, 0.11808784306049347, 0.4007274806499481, 0.6005246043205261, 0.11602747440338135, 0.11924812197685242, 0.11993823945522308, 0.14628709852695465, 0.07502550631761551] test_mae_arr [5.476871490478516, 3.1496078968048096, 2.60244083404541, 0.5198466777801514, 0.27520376443862915, 2.0299036502838135, 3.1302621364593506, 0.4751608073711395, 1.7399317026138306, 1.6423500776290894, 1.2738837003707886, 0.8761584162712097, 0.8559277653694153, 0.38346439599990845, 1.3299694061279297, 0.17881067097187042, 0.25391098856925964, 0.21783292293548584, 0.6615564823150635, 0.07507535815238953, 0.15701298415660858, 0.8650868535041809, 0.36863505840301514, 0.6411008834838867, 0.20813927054405212, 0.24102559685707092, 0.09599523991346359, 0.11686380952596664, 0.40397825837135315, 0.6001951098442078, 0.11433540284633636, 0.11963745206594467, 0.1179523766040802, 0.14570410549640656, 0.07458706200122833]\n",
            "{'Train': 0.11203619078792147, 'Validation': 0.07502550631761551, 'Test': 0.07458706200122833}\n",
            "\n",
            "=====Epoch 36\n",
            "\n",
            "Training...\n"
          ]
        },
        {
          "output_type": "stream",
          "name": "stderr",
          "text": [
            "\n",
            "100%|██████████| 2678/2678 [13:59<00:00,  3.19it/s]"
          ]
        },
        {
          "output_type": "stream",
          "name": "stdout",
          "text": [
            "\n",
            "\n",
            "Evaluating...\n"
          ]
        },
        {
          "output_type": "stream",
          "name": "stderr",
          "text": [
            "\n",
            "100%|██████████| 765/765 [01:16<00:00, 10.02it/s]"
          ]
        },
        {
          "output_type": "stream",
          "name": "stdout",
          "text": [
            "\n",
            "\n",
            "Testing...\n"
          ]
        },
        {
          "output_type": "stream",
          "name": "stderr",
          "text": [
            "\n",
            "100%|██████████| 383/383 [00:38<00:00,  9.99it/s]"
          ]
        },
        {
          "output_type": "stream",
          "name": "stdout",
          "text": [
            "\n",
            "train_mae_arr [4.055204213778415, 1.8628292446976904, 1.6316772502602883, 1.395118924999878, 1.227341976603792, 1.1519817577715326, 1.0612156420523235, 1.068930999390486, 1.0061492864724146, 0.90764278373761, 0.7819268785367002, 0.778746536367415, 0.802631254246023, 0.7386391211838043, 0.6157286095921899, 0.296317524211989, 0.28439199319074543, 0.3222034221446897, 0.29986566701337775, 0.3080198318767761, 0.2823844312108035, 0.26111988125673596, 0.2713740493398357, 0.26996878316991807, 0.25800652366863247, 0.2555891345738474, 0.260896972883451, 0.2767521185693321, 0.2590694594863994, 0.2598164523155321, 0.11204648507540577, 0.10730591115887438, 0.11298104967084548, 0.11079099785489231, 0.11203619078792147, 0.11312533609007079] val_mae_arr [5.495244026184082, 3.167360782623291, 2.6051743030548096, 0.5303632616996765, 0.2743622064590454, 2.0302789211273193, 3.1393628120422363, 0.4822660982608795, 1.7356529235839844, 1.6325246095657349, 1.2782948017120361, 0.8795942664146423, 0.8600063323974609, 0.386810839176178, 1.3333159685134888, 0.1814141422510147, 0.2543065547943115, 0.21857191622257233, 0.6630833745002747, 0.07602076232433319, 0.15820099413394928, 0.8639259338378906, 0.3704213798046112, 0.6449750065803528, 0.2060464322566986, 0.24551327526569366, 0.09456435590982437, 0.11808784306049347, 0.4007274806499481, 0.6005246043205261, 0.11602747440338135, 0.11924812197685242, 0.11993823945522308, 0.14628709852695465, 0.07502550631761551, 0.04291245713829994] test_mae_arr [5.476871490478516, 3.1496078968048096, 2.60244083404541, 0.5198466777801514, 0.27520376443862915, 2.0299036502838135, 3.1302621364593506, 0.4751608073711395, 1.7399317026138306, 1.6423500776290894, 1.2738837003707886, 0.8761584162712097, 0.8559277653694153, 0.38346439599990845, 1.3299694061279297, 0.17881067097187042, 0.25391098856925964, 0.21783292293548584, 0.6615564823150635, 0.07507535815238953, 0.15701298415660858, 0.8650868535041809, 0.36863505840301514, 0.6411008834838867, 0.20813927054405212, 0.24102559685707092, 0.09599523991346359, 0.11686380952596664, 0.40397825837135315, 0.6001951098442078, 0.11433540284633636, 0.11963745206594467, 0.1179523766040802, 0.14570410549640656, 0.07458706200122833, 0.04156026989221573]\n",
            "{'Train': 0.11312533609007079, 'Validation': 0.04291245713829994, 'Test': 0.04156026989221573}\n",
            "\n",
            "=====Epoch 37\n",
            "\n",
            "Training...\n"
          ]
        },
        {
          "output_type": "stream",
          "name": "stderr",
          "text": [
            "\n",
            "100%|██████████| 2678/2678 [14:02<00:00,  3.18it/s]"
          ]
        },
        {
          "output_type": "stream",
          "name": "stdout",
          "text": [
            "\n",
            "\n",
            "Evaluating...\n"
          ]
        },
        {
          "output_type": "stream",
          "name": "stderr",
          "text": [
            "\n",
            "100%|██████████| 765/765 [01:15<00:00, 10.19it/s]"
          ]
        },
        {
          "output_type": "stream",
          "name": "stdout",
          "text": [
            "\n",
            "\n",
            "Testing...\n"
          ]
        },
        {
          "output_type": "stream",
          "name": "stderr",
          "text": [
            "\n",
            "100%|██████████| 383/383 [00:37<00:00, 10.27it/s]"
          ]
        },
        {
          "output_type": "stream",
          "name": "stdout",
          "text": [
            "\n",
            "train_mae_arr [4.055204213778415, 1.8628292446976904, 1.6316772502602883, 1.395118924999878, 1.227341976603792, 1.1519817577715326, 1.0612156420523235, 1.068930999390486, 1.0061492864724146, 0.90764278373761, 0.7819268785367002, 0.778746536367415, 0.802631254246023, 0.7386391211838043, 0.6157286095921899, 0.296317524211989, 0.28439199319074543, 0.3222034221446897, 0.29986566701337775, 0.3080198318767761, 0.2823844312108035, 0.26111988125673596, 0.2713740493398357, 0.26996878316991807, 0.25800652366863247, 0.2555891345738474, 0.260896972883451, 0.2767521185693321, 0.2590694594863994, 0.2598164523155321, 0.11204648507540577, 0.10730591115887438, 0.11298104967084548, 0.11079099785489231, 0.11203619078792147, 0.11312533609007079, 0.11393462890471158] val_mae_arr [5.495244026184082, 3.167360782623291, 2.6051743030548096, 0.5303632616996765, 0.2743622064590454, 2.0302789211273193, 3.1393628120422363, 0.4822660982608795, 1.7356529235839844, 1.6325246095657349, 1.2782948017120361, 0.8795942664146423, 0.8600063323974609, 0.386810839176178, 1.3333159685134888, 0.1814141422510147, 0.2543065547943115, 0.21857191622257233, 0.6630833745002747, 0.07602076232433319, 0.15820099413394928, 0.8639259338378906, 0.3704213798046112, 0.6449750065803528, 0.2060464322566986, 0.24551327526569366, 0.09456435590982437, 0.11808784306049347, 0.4007274806499481, 0.6005246043205261, 0.11602747440338135, 0.11924812197685242, 0.11993823945522308, 0.14628709852695465, 0.07502550631761551, 0.04291245713829994, 0.09871849417686462] test_mae_arr [5.476871490478516, 3.1496078968048096, 2.60244083404541, 0.5198466777801514, 0.27520376443862915, 2.0299036502838135, 3.1302621364593506, 0.4751608073711395, 1.7399317026138306, 1.6423500776290894, 1.2738837003707886, 0.8761584162712097, 0.8559277653694153, 0.38346439599990845, 1.3299694061279297, 0.17881067097187042, 0.25391098856925964, 0.21783292293548584, 0.6615564823150635, 0.07507535815238953, 0.15701298415660858, 0.8650868535041809, 0.36863505840301514, 0.6411008834838867, 0.20813927054405212, 0.24102559685707092, 0.09599523991346359, 0.11686380952596664, 0.40397825837135315, 0.6001951098442078, 0.11433540284633636, 0.11963745206594467, 0.1179523766040802, 0.14570410549640656, 0.07458706200122833, 0.04156026989221573, 0.09854733943939209]\n",
            "{'Train': 0.11393462890471158, 'Validation': 0.09871849417686462, 'Test': 0.09854733943939209}\n",
            "\n",
            "=====Epoch 38\n",
            "\n",
            "Training...\n"
          ]
        },
        {
          "output_type": "stream",
          "name": "stderr",
          "text": [
            "\n",
            "100%|██████████| 2678/2678 [14:00<00:00,  3.19it/s]"
          ]
        },
        {
          "output_type": "stream",
          "name": "stdout",
          "text": [
            "\n",
            "\n",
            "Evaluating...\n"
          ]
        },
        {
          "output_type": "stream",
          "name": "stderr",
          "text": [
            "\n",
            "100%|██████████| 765/765 [01:14<00:00, 10.25it/s]"
          ]
        },
        {
          "output_type": "stream",
          "name": "stdout",
          "text": [
            "\n",
            "\n",
            "Testing...\n"
          ]
        },
        {
          "output_type": "stream",
          "name": "stderr",
          "text": [
            "\n",
            "100%|██████████| 383/383 [00:37<00:00, 10.27it/s]"
          ]
        },
        {
          "output_type": "stream",
          "name": "stdout",
          "text": [
            "\n",
            "train_mae_arr [4.055204213778415, 1.8628292446976904, 1.6316772502602883, 1.395118924999878, 1.227341976603792, 1.1519817577715326, 1.0612156420523235, 1.068930999390486, 1.0061492864724146, 0.90764278373761, 0.7819268785367002, 0.778746536367415, 0.802631254246023, 0.7386391211838043, 0.6157286095921899, 0.296317524211989, 0.28439199319074543, 0.3222034221446897, 0.29986566701337775, 0.3080198318767761, 0.2823844312108035, 0.26111988125673596, 0.2713740493398357, 0.26996878316991807, 0.25800652366863247, 0.2555891345738474, 0.260896972883451, 0.2767521185693321, 0.2590694594863994, 0.2598164523155321, 0.11204648507540577, 0.10730591115887438, 0.11298104967084548, 0.11079099785489231, 0.11203619078792147, 0.11312533609007079, 0.11393462890471158, 0.1127115717746145] val_mae_arr [5.495244026184082, 3.167360782623291, 2.6051743030548096, 0.5303632616996765, 0.2743622064590454, 2.0302789211273193, 3.1393628120422363, 0.4822660982608795, 1.7356529235839844, 1.6325246095657349, 1.2782948017120361, 0.8795942664146423, 0.8600063323974609, 0.386810839176178, 1.3333159685134888, 0.1814141422510147, 0.2543065547943115, 0.21857191622257233, 0.6630833745002747, 0.07602076232433319, 0.15820099413394928, 0.8639259338378906, 0.3704213798046112, 0.6449750065803528, 0.2060464322566986, 0.24551327526569366, 0.09456435590982437, 0.11808784306049347, 0.4007274806499481, 0.6005246043205261, 0.11602747440338135, 0.11924812197685242, 0.11993823945522308, 0.14628709852695465, 0.07502550631761551, 0.04291245713829994, 0.09871849417686462, 0.10369399935007095] test_mae_arr [5.476871490478516, 3.1496078968048096, 2.60244083404541, 0.5198466777801514, 0.27520376443862915, 2.0299036502838135, 3.1302621364593506, 0.4751608073711395, 1.7399317026138306, 1.6423500776290894, 1.2738837003707886, 0.8761584162712097, 0.8559277653694153, 0.38346439599990845, 1.3299694061279297, 0.17881067097187042, 0.25391098856925964, 0.21783292293548584, 0.6615564823150635, 0.07507535815238953, 0.15701298415660858, 0.8650868535041809, 0.36863505840301514, 0.6411008834838867, 0.20813927054405212, 0.24102559685707092, 0.09599523991346359, 0.11686380952596664, 0.40397825837135315, 0.6001951098442078, 0.11433540284633636, 0.11963745206594467, 0.1179523766040802, 0.14570410549640656, 0.07458706200122833, 0.04156026989221573, 0.09854733943939209, 0.10276608169078827]\n",
            "{'Train': 0.1127115717746145, 'Validation': 0.10369399935007095, 'Test': 0.10276608169078827}\n",
            "\n",
            "=====Epoch 39\n",
            "\n",
            "Training...\n"
          ]
        },
        {
          "output_type": "stream",
          "name": "stderr",
          "text": [
            "\n",
            "100%|██████████| 2678/2678 [13:59<00:00,  3.19it/s]"
          ]
        },
        {
          "output_type": "stream",
          "name": "stdout",
          "text": [
            "\n",
            "\n",
            "Evaluating...\n"
          ]
        },
        {
          "output_type": "stream",
          "name": "stderr",
          "text": [
            "\n",
            "100%|██████████| 765/765 [01:14<00:00, 10.27it/s]"
          ]
        },
        {
          "output_type": "stream",
          "name": "stdout",
          "text": [
            "\n",
            "\n",
            "Testing...\n"
          ]
        },
        {
          "output_type": "stream",
          "name": "stderr",
          "text": [
            "\n",
            "100%|██████████| 383/383 [00:37<00:00, 10.30it/s]"
          ]
        },
        {
          "output_type": "stream",
          "name": "stdout",
          "text": [
            "\n",
            "train_mae_arr [4.055204213778415, 1.8628292446976904, 1.6316772502602883, 1.395118924999878, 1.227341976603792, 1.1519817577715326, 1.0612156420523235, 1.068930999390486, 1.0061492864724146, 0.90764278373761, 0.7819268785367002, 0.778746536367415, 0.802631254246023, 0.7386391211838043, 0.6157286095921899, 0.296317524211989, 0.28439199319074543, 0.3222034221446897, 0.29986566701337775, 0.3080198318767761, 0.2823844312108035, 0.26111988125673596, 0.2713740493398357, 0.26996878316991807, 0.25800652366863247, 0.2555891345738474, 0.260896972883451, 0.2767521185693321, 0.2590694594863994, 0.2598164523155321, 0.11204648507540577, 0.10730591115887438, 0.11298104967084548, 0.11079099785489231, 0.11203619078792147, 0.11312533609007079, 0.11393462890471158, 0.1127115717746145, 0.11786370556954576] val_mae_arr [5.495244026184082, 3.167360782623291, 2.6051743030548096, 0.5303632616996765, 0.2743622064590454, 2.0302789211273193, 3.1393628120422363, 0.4822660982608795, 1.7356529235839844, 1.6325246095657349, 1.2782948017120361, 0.8795942664146423, 0.8600063323974609, 0.386810839176178, 1.3333159685134888, 0.1814141422510147, 0.2543065547943115, 0.21857191622257233, 0.6630833745002747, 0.07602076232433319, 0.15820099413394928, 0.8639259338378906, 0.3704213798046112, 0.6449750065803528, 0.2060464322566986, 0.24551327526569366, 0.09456435590982437, 0.11808784306049347, 0.4007274806499481, 0.6005246043205261, 0.11602747440338135, 0.11924812197685242, 0.11993823945522308, 0.14628709852695465, 0.07502550631761551, 0.04291245713829994, 0.09871849417686462, 0.10369399935007095, 0.06975279748439789] test_mae_arr [5.476871490478516, 3.1496078968048096, 2.60244083404541, 0.5198466777801514, 0.27520376443862915, 2.0299036502838135, 3.1302621364593506, 0.4751608073711395, 1.7399317026138306, 1.6423500776290894, 1.2738837003707886, 0.8761584162712097, 0.8559277653694153, 0.38346439599990845, 1.3299694061279297, 0.17881067097187042, 0.25391098856925964, 0.21783292293548584, 0.6615564823150635, 0.07507535815238953, 0.15701298415660858, 0.8650868535041809, 0.36863505840301514, 0.6411008834838867, 0.20813927054405212, 0.24102559685707092, 0.09599523991346359, 0.11686380952596664, 0.40397825837135315, 0.6001951098442078, 0.11433540284633636, 0.11963745206594467, 0.1179523766040802, 0.14570410549640656, 0.07458706200122833, 0.04156026989221573, 0.09854733943939209, 0.10276608169078827, 0.07008762657642365]\n",
            "{'Train': 0.11786370556954576, 'Validation': 0.06975279748439789, 'Test': 0.07008762657642365}\n",
            "\n",
            "=====Epoch 40\n",
            "\n",
            "Training...\n"
          ]
        },
        {
          "output_type": "stream",
          "name": "stderr",
          "text": [
            "\n",
            "100%|██████████| 2678/2678 [14:03<00:00,  3.18it/s]"
          ]
        },
        {
          "output_type": "stream",
          "name": "stdout",
          "text": [
            "\n",
            "\n",
            "Evaluating...\n"
          ]
        },
        {
          "output_type": "stream",
          "name": "stderr",
          "text": [
            "\n",
            "100%|██████████| 765/765 [01:14<00:00, 10.25it/s]"
          ]
        },
        {
          "output_type": "stream",
          "name": "stdout",
          "text": [
            "\n",
            "\n",
            "Testing...\n"
          ]
        },
        {
          "output_type": "stream",
          "name": "stderr",
          "text": [
            "\n",
            "100%|██████████| 383/383 [00:36<00:00, 10.59it/s]"
          ]
        },
        {
          "output_type": "stream",
          "name": "stdout",
          "text": [
            "\n",
            "train_mae_arr [4.055204213778415, 1.8628292446976904, 1.6316772502602883, 1.395118924999878, 1.227341976603792, 1.1519817577715326, 1.0612156420523235, 1.068930999390486, 1.0061492864724146, 0.90764278373761, 0.7819268785367002, 0.778746536367415, 0.802631254246023, 0.7386391211838043, 0.6157286095921899, 0.296317524211989, 0.28439199319074543, 0.3222034221446897, 0.29986566701337775, 0.3080198318767761, 0.2823844312108035, 0.26111988125673596, 0.2713740493398357, 0.26996878316991807, 0.25800652366863247, 0.2555891345738474, 0.260896972883451, 0.2767521185693321, 0.2590694594863994, 0.2598164523155321, 0.11204648507540577, 0.10730591115887438, 0.11298104967084548, 0.11079099785489231, 0.11203619078792147, 0.11312533609007079, 0.11393462890471158, 0.1127115717746145, 0.11786370556954576, 0.11314425235189904] val_mae_arr [5.495244026184082, 3.167360782623291, 2.6051743030548096, 0.5303632616996765, 0.2743622064590454, 2.0302789211273193, 3.1393628120422363, 0.4822660982608795, 1.7356529235839844, 1.6325246095657349, 1.2782948017120361, 0.8795942664146423, 0.8600063323974609, 0.386810839176178, 1.3333159685134888, 0.1814141422510147, 0.2543065547943115, 0.21857191622257233, 0.6630833745002747, 0.07602076232433319, 0.15820099413394928, 0.8639259338378906, 0.3704213798046112, 0.6449750065803528, 0.2060464322566986, 0.24551327526569366, 0.09456435590982437, 0.11808784306049347, 0.4007274806499481, 0.6005246043205261, 0.11602747440338135, 0.11924812197685242, 0.11993823945522308, 0.14628709852695465, 0.07502550631761551, 0.04291245713829994, 0.09871849417686462, 0.10369399935007095, 0.06975279748439789, 0.06019981577992439] test_mae_arr [5.476871490478516, 3.1496078968048096, 2.60244083404541, 0.5198466777801514, 0.27520376443862915, 2.0299036502838135, 3.1302621364593506, 0.4751608073711395, 1.7399317026138306, 1.6423500776290894, 1.2738837003707886, 0.8761584162712097, 0.8559277653694153, 0.38346439599990845, 1.3299694061279297, 0.17881067097187042, 0.25391098856925964, 0.21783292293548584, 0.6615564823150635, 0.07507535815238953, 0.15701298415660858, 0.8650868535041809, 0.36863505840301514, 0.6411008834838867, 0.20813927054405212, 0.24102559685707092, 0.09599523991346359, 0.11686380952596664, 0.40397825837135315, 0.6001951098442078, 0.11433540284633636, 0.11963745206594467, 0.1179523766040802, 0.14570410549640656, 0.07458706200122833, 0.04156026989221573, 0.09854733943939209, 0.10276608169078827, 0.07008762657642365, 0.0596744678914547]\n",
            "{'Train': 0.11314425235189904, 'Validation': 0.06019981577992439, 'Test': 0.0596744678914547}\n",
            "\n",
            "=====Epoch 41\n",
            "\n",
            "Training...\n"
          ]
        },
        {
          "output_type": "stream",
          "name": "stderr",
          "text": [
            "\n",
            "100%|██████████| 2678/2678 [14:07<00:00,  3.16it/s]"
          ]
        },
        {
          "output_type": "stream",
          "name": "stdout",
          "text": [
            "\n",
            "\n",
            "Evaluating...\n"
          ]
        },
        {
          "output_type": "stream",
          "name": "stderr",
          "text": [
            "\n",
            "100%|██████████| 765/765 [01:13<00:00, 10.38it/s]"
          ]
        },
        {
          "output_type": "stream",
          "name": "stdout",
          "text": [
            "\n",
            "\n",
            "Testing...\n"
          ]
        },
        {
          "output_type": "stream",
          "name": "stderr",
          "text": [
            "\n",
            "100%|██████████| 383/383 [00:37<00:00, 10.34it/s]"
          ]
        },
        {
          "output_type": "stream",
          "name": "stdout",
          "text": [
            "\n",
            "train_mae_arr [4.055204213778415, 1.8628292446976904, 1.6316772502602883, 1.395118924999878, 1.227341976603792, 1.1519817577715326, 1.0612156420523235, 1.068930999390486, 1.0061492864724146, 0.90764278373761, 0.7819268785367002, 0.778746536367415, 0.802631254246023, 0.7386391211838043, 0.6157286095921899, 0.296317524211989, 0.28439199319074543, 0.3222034221446897, 0.29986566701337775, 0.3080198318767761, 0.2823844312108035, 0.26111988125673596, 0.2713740493398357, 0.26996878316991807, 0.25800652366863247, 0.2555891345738474, 0.260896972883451, 0.2767521185693321, 0.2590694594863994, 0.2598164523155321, 0.11204648507540577, 0.10730591115887438, 0.11298104967084548, 0.11079099785489231, 0.11203619078792147, 0.11312533609007079, 0.11393462890471158, 0.1127115717746145, 0.11786370556954576, 0.11314425235189904, 0.11270767134281127] val_mae_arr [5.495244026184082, 3.167360782623291, 2.6051743030548096, 0.5303632616996765, 0.2743622064590454, 2.0302789211273193, 3.1393628120422363, 0.4822660982608795, 1.7356529235839844, 1.6325246095657349, 1.2782948017120361, 0.8795942664146423, 0.8600063323974609, 0.386810839176178, 1.3333159685134888, 0.1814141422510147, 0.2543065547943115, 0.21857191622257233, 0.6630833745002747, 0.07602076232433319, 0.15820099413394928, 0.8639259338378906, 0.3704213798046112, 0.6449750065803528, 0.2060464322566986, 0.24551327526569366, 0.09456435590982437, 0.11808784306049347, 0.4007274806499481, 0.6005246043205261, 0.11602747440338135, 0.11924812197685242, 0.11993823945522308, 0.14628709852695465, 0.07502550631761551, 0.04291245713829994, 0.09871849417686462, 0.10369399935007095, 0.06975279748439789, 0.06019981577992439, 0.06393647938966751] test_mae_arr [5.476871490478516, 3.1496078968048096, 2.60244083404541, 0.5198466777801514, 0.27520376443862915, 2.0299036502838135, 3.1302621364593506, 0.4751608073711395, 1.7399317026138306, 1.6423500776290894, 1.2738837003707886, 0.8761584162712097, 0.8559277653694153, 0.38346439599990845, 1.3299694061279297, 0.17881067097187042, 0.25391098856925964, 0.21783292293548584, 0.6615564823150635, 0.07507535815238953, 0.15701298415660858, 0.8650868535041809, 0.36863505840301514, 0.6411008834838867, 0.20813927054405212, 0.24102559685707092, 0.09599523991346359, 0.11686380952596664, 0.40397825837135315, 0.6001951098442078, 0.11433540284633636, 0.11963745206594467, 0.1179523766040802, 0.14570410549640656, 0.07458706200122833, 0.04156026989221573, 0.09854733943939209, 0.10276608169078827, 0.07008762657642365, 0.0596744678914547, 0.0628638043999672]\n",
            "{'Train': 0.11270767134281127, 'Validation': 0.06393647938966751, 'Test': 0.0628638043999672}\n",
            "\n",
            "=====Epoch 42\n",
            "\n",
            "Training...\n"
          ]
        },
        {
          "output_type": "stream",
          "name": "stderr",
          "text": [
            "\n",
            "100%|██████████| 2678/2678 [13:59<00:00,  3.19it/s]"
          ]
        },
        {
          "output_type": "stream",
          "name": "stdout",
          "text": [
            "\n",
            "\n",
            "Evaluating...\n"
          ]
        },
        {
          "output_type": "stream",
          "name": "stderr",
          "text": [
            "\n",
            "100%|██████████| 765/765 [01:14<00:00, 10.29it/s]"
          ]
        },
        {
          "output_type": "stream",
          "name": "stdout",
          "text": [
            "\n",
            "\n",
            "Testing...\n"
          ]
        },
        {
          "output_type": "stream",
          "name": "stderr",
          "text": [
            "\n",
            "100%|██████████| 383/383 [00:36<00:00, 10.49it/s]"
          ]
        },
        {
          "output_type": "stream",
          "name": "stdout",
          "text": [
            "\n",
            "train_mae_arr [4.055204213778415, 1.8628292446976904, 1.6316772502602883, 1.395118924999878, 1.227341976603792, 1.1519817577715326, 1.0612156420523235, 1.068930999390486, 1.0061492864724146, 0.90764278373761, 0.7819268785367002, 0.778746536367415, 0.802631254246023, 0.7386391211838043, 0.6157286095921899, 0.296317524211989, 0.28439199319074543, 0.3222034221446897, 0.29986566701337775, 0.3080198318767761, 0.2823844312108035, 0.26111988125673596, 0.2713740493398357, 0.26996878316991807, 0.25800652366863247, 0.2555891345738474, 0.260896972883451, 0.2767521185693321, 0.2590694594863994, 0.2598164523155321, 0.11204648507540577, 0.10730591115887438, 0.11298104967084548, 0.11079099785489231, 0.11203619078792147, 0.11312533609007079, 0.11393462890471158, 0.1127115717746145, 0.11786370556954576, 0.11314425235189904, 0.11270767134281127, 0.1085059194977912] val_mae_arr [5.495244026184082, 3.167360782623291, 2.6051743030548096, 0.5303632616996765, 0.2743622064590454, 2.0302789211273193, 3.1393628120422363, 0.4822660982608795, 1.7356529235839844, 1.6325246095657349, 1.2782948017120361, 0.8795942664146423, 0.8600063323974609, 0.386810839176178, 1.3333159685134888, 0.1814141422510147, 0.2543065547943115, 0.21857191622257233, 0.6630833745002747, 0.07602076232433319, 0.15820099413394928, 0.8639259338378906, 0.3704213798046112, 0.6449750065803528, 0.2060464322566986, 0.24551327526569366, 0.09456435590982437, 0.11808784306049347, 0.4007274806499481, 0.6005246043205261, 0.11602747440338135, 0.11924812197685242, 0.11993823945522308, 0.14628709852695465, 0.07502550631761551, 0.04291245713829994, 0.09871849417686462, 0.10369399935007095, 0.06975279748439789, 0.06019981577992439, 0.06393647938966751, 0.0449855700135231] test_mae_arr [5.476871490478516, 3.1496078968048096, 2.60244083404541, 0.5198466777801514, 0.27520376443862915, 2.0299036502838135, 3.1302621364593506, 0.4751608073711395, 1.7399317026138306, 1.6423500776290894, 1.2738837003707886, 0.8761584162712097, 0.8559277653694153, 0.38346439599990845, 1.3299694061279297, 0.17881067097187042, 0.25391098856925964, 0.21783292293548584, 0.6615564823150635, 0.07507535815238953, 0.15701298415660858, 0.8650868535041809, 0.36863505840301514, 0.6411008834838867, 0.20813927054405212, 0.24102559685707092, 0.09599523991346359, 0.11686380952596664, 0.40397825837135315, 0.6001951098442078, 0.11433540284633636, 0.11963745206594467, 0.1179523766040802, 0.14570410549640656, 0.07458706200122833, 0.04156026989221573, 0.09854733943939209, 0.10276608169078827, 0.07008762657642365, 0.0596744678914547, 0.0628638043999672, 0.0454242080450058]\n",
            "{'Train': 0.1085059194977912, 'Validation': 0.0449855700135231, 'Test': 0.0454242080450058}\n",
            "\n",
            "=====Epoch 43\n",
            "\n",
            "Training...\n"
          ]
        },
        {
          "output_type": "stream",
          "name": "stderr",
          "text": [
            "\n",
            " 26%|██▌       | 693/2678 [03:38<09:22,  3.53it/s]"
          ]
        }
      ]
    },
    {
      "cell_type": "code",
      "source": [],
      "metadata": {
        "id": "ekrcB7I6hBp7"
      },
      "execution_count": null,
      "outputs": []
    },
    {
      "cell_type": "code",
      "source": [],
      "metadata": {
        "id": "rDFxjufOhBsn"
      },
      "execution_count": null,
      "outputs": []
    },
    {
      "cell_type": "code",
      "execution_count": null,
      "metadata": {
        "id": "5Y1YqknaLWw2"
      },
      "outputs": [],
      "source": []
    }
  ],
  "metadata": {
    "colab": {
      "provenance": [],
      "authorship_tag": "ABX9TyM1nWlnRFOgEt5PfqdsgBYL",
      "include_colab_link": true
    },
    "kernelspec": {
      "display_name": "Python 3",
      "name": "python3"
    },
    "language_info": {
      "name": "python"
    }
  },
  "nbformat": 4,
  "nbformat_minor": 0
}